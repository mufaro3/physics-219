{
 "cells": [
  {
   "cell_type": "markdown",
   "id": "a038bf36-ca64-472c-b797-374ef246c9d4",
   "metadata": {
    "tags": []
   },
   "source": [
    "# Experiment 02  -  RC Transients"
   ]
  },
  {
   "cell_type": "markdown",
   "id": "3c575833-aaaa-42c1-84da-6c6d63232765",
   "metadata": {
    "tags": []
   },
   "source": [
    "Date:\n",
    "\n",
    "Name:\n",
    "\n",
    "Partner's name:"
   ]
  },
  {
   "cell_type": "code",
   "execution_count": null,
   "id": "39c746d1",
   "metadata": {},
   "outputs": [],
   "source": [
    "from common import *"
   ]
  },
  {
   "cell_type": "markdown",
   "id": "6c1a826b-8f18-483a-95b1-ab91cd7ab639",
   "metadata": {},
   "source": [
    "## Place a heading here to indicate what you are working on"
   ]
  },
  {
   "cell_type": "markdown",
   "id": "957c2a07-b52e-4bb4-909a-bbbd6a7f6376",
   "metadata": {},
   "source": [
    "Enter notes here as you work through the experiment. Begin with a brief statement about what you will be working on, and why. "
   ]
  },
  {
   "cell_type": "markdown",
   "id": "e2e0363f-9316-4c87-95d2-746cbc005d4c",
   "metadata": {
    "tags": []
   },
   "source": [
    "## You might need another heading here"
   ]
  },
  {
   "cell_type": "markdown",
   "id": "dd8e2338-9d8a-454f-b677-b1499eb58ce7",
   "metadata": {},
   "source": [
    "As you progress through the lab, keep adding notes, and include headings to help keep things organized. You can also include calculatino blocks to determine parameters along the way. We will provide much less structure in this notebook, so it is up to you to take notes as you go along. We will be checking your work during the lab."
   ]
  },
  {
   "cell_type": "markdown",
   "id": "c435595f-277e-4cb4-a0fc-dfa981a81b99",
   "metadata": {},
   "source": [
    "## Measurements of Resistance and Capacitance"
   ]
  },
  {
   "cell_type": "markdown",
   "id": "14575c3b-cc4e-4643-b178-22a36209d856",
   "metadata": {},
   "source": [
    "Record the measured values of R and C for the components that you are using in your circuit. To estimate the uncertainties in these values, you will need to consult the manual for your DMM. Use a code cell to input the values and calculate $\\tau$ as well as propagate the uncertainties."
   ]
  },
  {
   "cell_type": "markdown",
   "id": "35a01e15-8988-460d-bced-4b12dc3f50f2",
   "metadata": {},
   "source": [
    "## Upload Data Files to Your Jupyter Account and Pack the Data"
   ]
  },
  {
   "cell_type": "markdown",
   "id": "c354a058-285d-449a-89e6-8442af69038a",
   "metadata": {
    "tags": []
   },
   "source": [
    "Below, we have provided a more compact version of the code you used last week to examine your data and then do some averaging to pack it. Once you have saved a set of data from the oscilloscope, and uploaded it to your Jupyter account, the entire code runs in one cell. You will probably need to run it several times until you are satisfied with the final output. \n",
    "\n",
    "The key pieces of code that you will need to alter are indicated by notes in Red, and include:\n",
    "- the name for your uploaded raw data file\n",
    "- the zoomed in flat range you use to examine the noise and measure the standard deviation\n",
    "- the number of points you want to average when packing the data\n",
    "- a new index range that you can use to trim unwanted data at the start or end of the time range\n",
    "- the filename you will use to save your packed and trimmed data "
   ]
  },
  {
   "cell_type": "code",
   "execution_count": null,
   "id": "91e6ca72-a21e-481f-975d-0f86fa9d874a",
   "metadata": {
    "tags": []
   },
   "outputs": [],
   "source": [
    "gopts = VOLTAGE_VERSUS_TIME_GRAPH_OPTIONS\n",
    "raw = load_raw_data('RCdecayVC3.csv', plot=True, graphing_options=gopts)"
   ]
  },
  {
   "cell_type": "code",
   "execution_count": null,
   "id": "dffdb893",
   "metadata": {},
   "outputs": [],
   "source": [
    "noise = isolate_noise(raw, indices_range=(70500,71000), y_range=(0.01,0.04),\n",
    "                      plot=True, graphing_options=gopts)"
   ]
  },
  {
   "cell_type": "code",
   "execution_count": null,
   "id": "057e7da3",
   "metadata": {},
   "outputs": [],
   "source": [
    "packed = pack_data(raw, p=100, noise=noise,\n",
    "                   trim_range=(50,800),\n",
    "                   plot=True, graphing_options=gopts)"
   ]
  },
  {
   "cell_type": "markdown",
   "id": "524f00c5-c26d-45f3-a324-cee1293e12bc",
   "metadata": {},
   "source": [
    "## Fit of an Exponential Decay Model to the First Data Set"
   ]
  },
  {
   "cell_type": "markdown",
   "id": "bd468fc6-b37a-44f7-8e18-47cf13e08a94",
   "metadata": {},
   "source": [
    "Below, we provide a more compact code version of the code that you used last week for fitting a model to data. Once you have a packed data set, you can modify this code to perform a least squares fit of a model to data. In your Experiment 02 Pre-Lab, you got to try slightly altering a fitting model. Here you will replace the model entirely, in order to fit to exponential decay. \n",
    "\n",
    "The key pieces of code that you will need to alter are indicated by notes in Red, and include:\n",
    "- the name of your data file - modify the line containing \"fname = ...\" \n",
    "- your fitting function - modify the line \"def fit_function(....)\" and \"return ...\"\n",
    "- your initial guesses for the parameters\n",
    "- the parameter names in \"param_names = ...\"\n",
    "\n",
    "The final output from the code is a the best fit values for the parameters, the chi-squared value for the best fit, and a set of plots which are also stored as a JPEG. \n"
   ]
  },
  {
   "cell_type": "code",
   "execution_count": null,
   "id": "9c56a44c-1152-4763-85ec-112f2df31127",
   "metadata": {
    "tags": []
   },
   "outputs": [],
   "source": [
    "guesses=ExponentialFitParameters(\n",
    "    amplitude=0.6,\n",
    "    tau=5e-4,\n",
    "    offset=0.02\n",
    ")\n",
    "\n",
    "results = autofit(packed, gopts, FitType.EXPONENTIAL, guesses)"
   ]
  },
  {
   "cell_type": "code",
   "execution_count": null,
   "id": "acc3b281",
   "metadata": {},
   "outputs": [],
   "source": [
    "results.tabulate(print_cov=True, units=('V','Ω*F', 'V'))"
   ]
  },
  {
   "cell_type": "code",
   "execution_count": null,
   "id": "84bab27d",
   "metadata": {},
   "outputs": [],
   "source": [
    "display(results.initial_guess_graph)"
   ]
  },
  {
   "cell_type": "code",
   "execution_count": null,
   "id": "a0c3faf0",
   "metadata": {},
   "outputs": [],
   "source": [
    "display(results.initial_guess_residuals_graph)"
   ]
  },
  {
   "cell_type": "code",
   "execution_count": null,
   "id": "3ff4e12c",
   "metadata": {},
   "outputs": [],
   "source": [
    "display(results.autofit_graph)"
   ]
  },
  {
   "cell_type": "code",
   "execution_count": null,
   "id": "f1221772",
   "metadata": {},
   "outputs": [],
   "source": [
    "display(results.autofit_residuals_graph)"
   ]
  },
  {
   "cell_type": "markdown",
   "id": "04fd42d2-0b4e-4373-be93-78287046b7c1",
   "metadata": {},
   "source": [
    "You should comment on the quality of the fit and record the best fit parameters and their uncertainty.\n",
    "\n",
    "Make a rough comparison of the decay time with the expectation for an RC circuit (we will do a more quantitative comparison later)."
   ]
  },
  {
   "cell_type": "markdown",
   "id": "7f17d93c-d4a3-4eec-81ae-d6cd0c3b25d2",
   "metadata": {},
   "source": [
    "## Measurements with Different Values of the Resistance"
   ]
  },
  {
   "cell_type": "markdown",
   "id": "a74935df-a5fe-4410-891c-eed80b46ac23",
   "metadata": {},
   "source": [
    "You can repeat this whole process with each decay curve that you have collected, and it gets easy to just run the codes on some new data.\n",
    "\n",
    "You can copy and paste the code cells to run on additional data (don't overwrite your previous results!). You can also start storing the outputs as new variables to make it easier to compile your results and discuss them at the end.\n",
    "\n",
    "If you would prefer, you can run the codes above with new data, or run them in a separate note book. Then record the results here, including the chi-squared values and best fit parameters with uncertainty. If you want to run the code in a separate notebook, just copy the code cells into a new notebook, or adapt the stand-alone codes that we have provided to you. Either way, you should record all fitting results in this main Expt 02 Jupyter notebook, and also include the figures for each fit. The figures can be read in and displayed using the short code below (just make sure you save each image separately with different filenames or it will be overwritten!).\n",
    "\n",
    "For each additional resistance value, create a new header. This will make it easier for you to navigate your workbook and for the TAs to mark your work later."
   ]
  },
  {
   "cell_type": "code",
   "execution_count": null,
   "id": "9a93b691",
   "metadata": {},
   "outputs": [],
   "source": []
  }
 ],
 "metadata": {
  "kernelspec": {
   "display_name": "Physics 219",
   "language": "python",
   "name": "physics_219_venv"
  },
  "language_info": {
   "codemirror_mode": {
    "name": "ipython",
    "version": 3
   },
   "file_extension": ".py",
   "mimetype": "text/x-python",
   "name": "python",
   "nbconvert_exporter": "python",
   "pygments_lexer": "ipython3",
   "version": "3.11.2"
  },
  "widgets": {
   "application/vnd.jupyter.widget-state+json": {
    "state": {},
    "version_major": 2,
    "version_minor": 0
   }
  }
 },
 "nbformat": 4,
 "nbformat_minor": 5
}

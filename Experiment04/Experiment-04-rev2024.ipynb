{
 "cells": [
  {
   "cell_type": "markdown",
   "id": "a038bf36-ca64-472c-b797-374ef246c9d4",
   "metadata": {
    "tags": []
   },
   "source": [
    "# Experiment 04  -  RC and LRC Circuits in the Frequency Domain"
   ]
  },
  {
   "cell_type": "markdown",
   "id": "3c575833-aaaa-42c1-84da-6c6d63232765",
   "metadata": {
    "tags": []
   },
   "source": [
    "Date:\n",
    "\n",
    "Name:\n",
    "\n",
    "Partner's name:"
   ]
  },
  {
   "cell_type": "markdown",
   "id": "6c1a826b-8f18-483a-95b1-ab91cd7ab639",
   "metadata": {},
   "source": [
    "## Place a heading here to indicate what you are working on"
   ]
  },
  {
   "cell_type": "markdown",
   "id": "957c2a07-b52e-4bb4-909a-bbbd6a7f6376",
   "metadata": {},
   "source": [
    "**Replace this text:** Enter notes here as you work through the experiment. Begin with a brief statement about what you will be working on, and why.\n",
    "\n",
    "As you progress through the lab, keep adding notes, and include headings to help keep things organized. We will provide much less structure in this notebook, so it is up to you to take notes as you go along. We will be checking your work during the lab."
   ]
  },
  {
   "cell_type": "markdown",
   "id": "c435595f-277e-4cb4-a0fc-dfa981a81b99",
   "metadata": {},
   "source": [
    "## Measurements of Inductance, Resistance, and Capacitance"
   ]
  },
  {
   "cell_type": "markdown",
   "id": "14575c3b-cc4e-4643-b178-22a36209d856",
   "metadata": {},
   "source": [
    "Next week, in experiment 05, you will be making comparisons of your transient data (time domain, lab 02 and 03), with this experiment in the frequency domain. To make the comparisons, you should be working with the same resistors, capacitors and inductors. To be sure, take some time to measure your components and compare to your previous lab notes."
   ]
  },
  {
   "cell_type": "markdown",
   "id": "35a01e15-8988-460d-bced-4b12dc3f50f2",
   "metadata": {},
   "source": [
    "# Measuring the RC circuit"
   ]
  },
  {
   "cell_type": "markdown",
   "id": "c354a058-285d-449a-89e6-8442af69038a",
   "metadata": {
    "tags": []
   },
   "source": [
    "The rest of this experiment consists of taking data using the spreadsheet code, and then fitting the results. You will do this for an RC circuit and then an LRC circuit. Make sure you set these circuits up exactly the way you did in Lab 02 and Lab 03. Don't forget to take notes here as you go.\n",
    "\n",
    "For the data entry, we include the data entry code below. *You should already have the data_entry2 package installed (either on the PHYS229 server, or you completed the installation during the prelab), but if you need to re-install it, uncomment lines 5-7 and run.*"
   ]
  },
  {
   "cell_type": "code",
   "execution_count": null,
   "id": "87e06263-6815-4e99-a2bf-dab1f7fa0acf",
   "metadata": {
    "tags": []
   },
   "outputs": [],
   "source": [
    "#  The three lines of code below were already used to install the program data_entry2.py \n",
    "#  and you should not need to do this again\n",
    "# If you do need to re-inastall, just remove the # at the start of each of the three lines and run it once\n",
    "\n",
    "#!wget -N --quiet https://www.phas.ubc.ca/~michal/data_entry2.py # download data_entry.py\n",
    "#%run data_entry2.py  # install it.\n",
    "#!pip install --user ipydatagrid  # install jupyter extensions. \n",
    "\n",
    "# import the packages that you need, including data_entry2\n",
    "\n",
    "import numpy as np\n",
    "import data_entry2\n",
    "import array\n",
    "import pandas as pd\n",
    "import matplotlib.pyplot as plt"
   ]
  },
  {
   "cell_type": "code",
   "execution_count": null,
   "id": "aa051ba6-a9c6-4900-a4c4-92bc0d1f7058",
   "metadata": {},
   "outputs": [],
   "source": [
    "# Start a spreadsheet. \n",
    "# When you first run this, it will create a new, blank spreadsheet\n",
    "# It will also start writing it to a CSV file with the name specified below - chenge the name if you wish\n",
    "\n",
    "de = data_entry2.sheet(\"lab04_RC_data.csv\")"
   ]
  },
  {
   "cell_type": "markdown",
   "id": "eda2a1fb-a8ff-4edd-9949-c562115de8cc",
   "metadata": {},
   "source": [
    "## Plot As You Take the Data\n",
    "\n",
    "Don't forget to take notes as you go, and be sure to enter uncertainty estimates and justification as you go along. \n",
    "\n",
    "It is also good practice to plot your data whale you are taking it. The code below can be run any time you want a fresh look at the data you are entering."
   ]
  },
  {
   "cell_type": "code",
   "execution_count": null,
   "id": "5f89e0e1-f945-4af4-b9b0-8161fd1bb2ab",
   "metadata": {
    "tags": []
   },
   "outputs": [],
   "source": [
    "# import the  library numpy  and rename it  np\n",
    "import numpy as np\n",
    "import array\n",
    "\n",
    "# import the library matplotlib and rename it plot\n",
    "import matplotlib.pyplot as plt\n",
    "#name  the input file  with the data\n",
    "fname = 'My-RC-data.csv'\n",
    "\n",
    "# This block reads in data - the file is assumed to be in csv format (comma separated variables). \n",
    "# Files need to be specified with a full path OR they have to be saved in the same folder as the script\n",
    "# \n",
    "data = np.loadtxt(fname, delimiter=',', comments='#',usecols=(0,1,2,3),skiprows=2)\n",
    "\n",
    "# generate an array which is the first column of data.  Note the first column is \n",
    "# indexed as zero.\n",
    "x = data[:,0]\n",
    "# generate an array for the x uncertainty  (column index  1)\n",
    "x_sigma = data[:,1]\n",
    "# generate an array for the y values (column index 2)\n",
    "y = data[:,2]\n",
    "# generate an array for y uncertainty (column index 3) \n",
    "y_sigma = data[:,3]\n",
    "\n",
    "# This block creates a plot\n",
    "\n",
    "plt.errorbar(x,y,xerr=x_sigma,yerr=y_sigma,marker='.',linestyle='',label=\"measured data\")\n",
    "plt.xlabel(' ')\n",
    "plt.ylabel(' ')\n",
    "plt.title(' ')\n",
    "plt.show()"
   ]
  },
  {
   "cell_type": "markdown",
   "id": "0f10669d-c9a7-4190-abe0-f64befdcdef9",
   "metadata": {},
   "source": []
  },
  {
   "cell_type": "markdown",
   "id": "a55ce780-6b92-4f83-9200-a1fea209d693",
   "metadata": {},
   "source": [
    "# Measuring the LRC circuit"
   ]
  },
  {
   "cell_type": "markdown",
   "id": "86291ef1-d02e-451d-aa23-8950393df410",
   "metadata": {},
   "source": [
    "You can repeat the whole process for the LRC part of the experiment. Just start a new spreadsheet below, with a different name."
   ]
  },
  {
   "cell_type": "code",
   "execution_count": null,
   "id": "ed5c1464-a3a2-4bda-a624-66d517eae8ee",
   "metadata": {
    "tags": []
   },
   "outputs": [],
   "source": [
    "de = data_entry2.sheet(\"lab04_LRC_data.csv\")"
   ]
  },
  {
   "cell_type": "markdown",
   "id": "5094f1d7-211e-44ff-a178-0be4d280d866",
   "metadata": {},
   "source": [
    "## Plot LRC data while acquiring"
   ]
  },
  {
   "cell_type": "markdown",
   "id": "e4c83478-da61-449c-9c42-f4ed3ca5894a",
   "metadata": {},
   "source": [
    "Again, plot the data as you measure, in particular ensuring you have sufficient data in regions that are changing rapidly as a function of your dependent variable."
   ]
  },
  {
   "cell_type": "code",
   "execution_count": null,
   "id": "63a6b09d-17ed-40d3-ab65-b856f0fa86ac",
   "metadata": {
    "tags": []
   },
   "outputs": [],
   "source": [
    "# import the  library numpy  and rename it  np\n",
    "import numpy as np\n",
    "import array\n",
    "\n",
    "# import the library matplotlib and rename it plot\n",
    "import matplotlib.pyplot as plt\n",
    "#name  the input file  with the data\n",
    "fname = 'lab04_LRC_data.csv'\n",
    "\n",
    "# This block reads in data - the file is assumed to be in csv format (comma separated variables). \n",
    "# Files need to be specified with a full path OR they have to be saved in the same folder as the script\n",
    "# \n",
    "data = np.loadtxt(fname, delimiter=',', comments='#',usecols=(0,1,2,3),skiprows=2)\n",
    "\n",
    "# generate an array which is the first column of data.  Note the first column is \n",
    "# indexed as zero.\n",
    "x = data[:,0]\n",
    "# generate an array for the x uncertainty  (column index  1)\n",
    "x_sigma = data[:,1]\n",
    "# generate an array for the y values (column index 2)\n",
    "y = data[:,2]\n",
    "# generate an array for y uncertainty (column index 3) \n",
    "y_sigma = data[:,3]\n",
    "\n",
    "# This block creates a plot\n",
    "\n",
    "plt.errorbar(x,y,xerr=x_sigma,yerr=y_sigma,marker='.',linestyle='',label=\"measured data\")\n",
    "plt.xlabel(' ')\n",
    "plt.ylabel(' ')\n",
    "plt.title(' ')\n",
    "plt.show()"
   ]
  },
  {
   "cell_type": "markdown",
   "id": "bad55541-6004-45ec-943c-9bb7186968b5",
   "metadata": {},
   "source": []
  },
  {
   "cell_type": "markdown",
   "id": "6ce2b631-4ab4-400d-9b3a-74b153821a64",
   "metadata": {},
   "source": [
    "## Fitting Your Data"
   ]
  },
  {
   "cell_type": "markdown",
   "id": "fd64cd17-19aa-44e9-99d8-70c597b6e0a6",
   "metadata": {},
   "source": [
    "The code cells below for fitting have been updated to include the two functions you worked with in the prelab exercise. Now you will use them to fit your data. Remember that fits of non-linear functions can be sensitive to the inital parameters given, so consider some strategies to make informed guesses."
   ]
  },
  {
   "cell_type": "markdown",
   "id": "7096b8ff-2a7e-48fb-8322-57673cfe4f6e",
   "metadata": {},
   "source": [
    "### Fit RC data"
   ]
  },
  {
   "cell_type": "markdown",
   "id": "03b0ee01-ff9c-4a01-a52f-0c64c867e1fe",
   "metadata": {},
   "source": [
    "Will fit RC response curve to:\n",
    "$$V_c(f)=\\frac{V_{in}^0}{\\sqrt{1+(2\\pi fRC)^2}}$$\n",
    "Need to define new function where f -> x, and RC -> tau, and $V_{in}^0$ -> V0\n",
    "\n",
    "`def RCresp_func(x, tau, V0):\n",
    "    return V0/(1+(2*np.pi*tau*x)**2)`"
   ]
  },
  {
   "cell_type": "code",
   "execution_count": null,
   "id": "e8ba3bf9-c806-44ba-9ac9-fa7de1c219a1",
   "metadata": {},
   "outputs": [],
   "source": [
    "# Load python packages\n",
    "import matplotlib.pyplot as plt\n",
    "import numpy as np\n",
    "from scipy.optimize import curve_fit\n",
    "\n",
    "###############################################################################\n",
    "# DEFINED FITTING FUNCTIONS\n",
    "###############################################################################\n",
    "\n",
    "def sine_func(x, amplitude, freq, phase):\n",
    "    return amplitude * np.sin(2.0 * np.pi * freq * x + phase)\n",
    "\n",
    "def offset_sine_func(x, amplitude, freq, phase, offset):\n",
    "    return (amplitude * np.sin(2.0 * np.pi * freq * x + phase)) + offset\n",
    "\n",
    "def exponential_func(x, amplitude, tau, voffset):\n",
    "    return amplitude * np.exp(x/(-1.0*tau)) + voffset\n",
    "\n",
    "def ringdown_function(x, amplitude, tau, resonantf, phase):\n",
    "    return amplitude * np.exp(-x/tau) * np.cos(2.0*np.pi * resonantf * x + phase)\n",
    "\n",
    "def linear_func(x, slope, intercept):\n",
    "    return slope * x + intercept\n",
    "\n",
    "def RCresp_func(x, tau, V0, voffset):\n",
    "    return V0/np.sqrt(1+(2*np.pi*tau*x)**2) + voffset\n",
    "\n",
    "def LRCresp_func(x, f0, Vin, gamma):\n",
    "    return Vin/(np.sqrt(1+(2*np.pi/(gamma*x))**2*(x**2-f0**2)**2))\n",
    "\n",
    "###############################################################################\n",
    "# LIST OF ALL INPUTS\n",
    "###############################################################################\n",
    "\n",
    "# Name of the data file\n",
    "fname = \"lab04-RC-data.csv\"\n",
    "\n",
    "# Names and units of data columns from fname\n",
    "x_name = \"frequency\"\n",
    "x_units = \"Hz\"\n",
    "y_name = \"Voltage\"\n",
    "y_units = \"mV\"\n",
    "\n",
    "# Modify to change the fitting function, parameter names and to set initial parameter guesses\n",
    "fit_function = RCresp_func\n",
    "param_names = (\"tau\", \"V0\",\"Voffset\")\n",
    "guesses = (0.005,1,0)\n",
    "\n",
    "# Flags for optional features\n",
    "show_covariance_matrix = False\n",
    "set_xy_boundaries = False\n",
    "lower_x = -0.01 # these values ignored if set_xy_boundaries = False\n",
    "upper_x = 0.01\n",
    "lower_y = -1\n",
    "upper_y = 1\n",
    "\n",
    "###############################################################################\n",
    "# LOAD DATA\n",
    "###############################################################################\n",
    "\n",
    "# load the file fname and skip the first 'skiprows' rows\n",
    "data = np.loadtxt(fname, delimiter=\",\", comments=\"#\", usecols=(0, 1, 2, 3), skiprows=2)\n",
    "\n",
    "# Assign the data file columns to variables for later use\n",
    "x = data[:, 0]\n",
    "y = data[:, 2]\n",
    "y_sigma = data[:, 3]\n",
    "\n",
    "###############################################################################\n",
    "# INITIAL PLOT OF THE DATA\n",
    "###############################################################################\n",
    "\n",
    "# Define 500 points spanning the range of the x-data; for plotting smooth curves\n",
    "xtheory = np.linspace(min(x), max(x), 500)\n",
    "\n",
    "# Compare the guessed curve to the data for visual reference\n",
    "y_guess = fit_function(xtheory, *guesses)\n",
    "plt.errorbar(x, y, yerr=y_sigma, marker=\".\", linestyle=\"\", label=\"Measured data\")\n",
    "plt.plot(\n",
    "    xtheory,\n",
    "    y_guess,\n",
    "    marker=\"\",\n",
    "    linestyle=\"-\",\n",
    "    linewidth=1,\n",
    "    color=\"g\",\n",
    "    label=\"Initial parameter guesses\",\n",
    ")\n",
    "plt.xlabel(f\"{x_name} [{x_units}]\")\n",
    "plt.ylabel(f\"{y_name} [{y_units}]\")\n",
    "plt.title(r\"Comparison between the data and the intial parameter guesses\")\n",
    "plt.legend(loc=\"best\", numpoints=1)\n",
    "plt.show()\n",
    "\n",
    "# calculate the value of the model at each of the x-values of the data set\n",
    "y_fit = fit_function(x, *guesses)\n",
    "\n",
    "# Residuals are the difference between the data and theory\n",
    "residual = y - y_fit\n",
    "\n",
    "# Plot the residuals\n",
    "plt.errorbar(x, residual, yerr=y_sigma, marker=\".\", linestyle=\"\", label=\"residuals\")\n",
    "plt.xlabel(f\"{x_name} [{x_units}]\")\n",
    "plt.ylabel(f\"Residual y-y_fit [{y_units}]\")\n",
    "plt.title(\"Residuals using initial parameter guesses\")\n",
    "plt.show()\n",
    "\n",
    "###############################################################################\n",
    "# PERFORM THE FIT AND PRINT RESULTS\n",
    "###############################################################################\n",
    "\n",
    "# Use curve_fit to perform the fit\n",
    "# fit_function: defined above to choose a specific fitting function \n",
    "# fit_params: holds the resulting fit parameters\n",
    "# fit_cov: the covariance matrix between all the parameters\n",
    "#          (used to extract fitting parameter uncertanties)\n",
    "# maxfev=10**5: maximum number of fitting procedure iterations before giving up\n",
    "# absolute_sigma=True: uncertainties are treated as absolute (not relative)\n",
    "fit_params, fit_cov = curve_fit(\n",
    "    fit_function, x, y, sigma=y_sigma, \n",
    "    p0=guesses,absolute_sigma=True, maxfev=10**5)\n",
    "\n",
    "# Define the function that calculates chi-squared\n",
    "def chi_square(fit_parameters, x, y, sigma):\n",
    "    dof = len(x) - len(fit_params)\n",
    "    return np.sum((y - fit_function(x, *fit_parameters)) ** 2 / sigma**2)/dof\n",
    "\n",
    "# Calculate and print reduced chi-squared\n",
    "chi2 = chi_square(fit_params, x, y, y_sigma)\n",
    "print(\"Chi-squared = \", chi2)\n",
    "\n",
    "# Calculate the uncertainties in the fit parameters\n",
    "fit_params_error = np.sqrt(np.diag(fit_cov))\n",
    "\n",
    "# Print the fit parameters with uncertianties\n",
    "print(\"\\nFit parameters:\")\n",
    "for i in range(len(fit_params)):\n",
    "    print(f\"   {param_names[i]} = {fit_params[i]:.3e} ± {fit_params_error[i]:.3e}\")\n",
    "print(\"\\n\")\n",
    "\n",
    "# (Optional) Print the covariance between all variables\n",
    "if show_covariance_matrix:\n",
    "    print(\"Covariance between fit parameters:\")\n",
    "    for i, fit_covariance in enumerate(fit_cov):\n",
    "        for j in range(i+1,len(fit_covariance)):\n",
    "            print(f\"   {param_names[i]} and {param_names[j]}: {fit_cov[i,j]:.3e}\")\n",
    "    print(\"\\n\")\n",
    "\n",
    "# residual is the difference between the data and model\n",
    "x_fitfunc = np.linspace(min(x), max(x), 500)\n",
    "y_fitfunc = fit_function(x_fitfunc, *fit_params)\n",
    "y_fit = fit_function(x, *fit_params)\n",
    "residual = y-y_fit\n",
    "\n",
    "###############################################################################\n",
    "# PRODUCE A MULTIPANEL PLOT, WITH SCATTER PLOT, RESIDUALS AND RESIDUALS HISTOGRAM\n",
    "###############################################################################\n",
    "\n",
    "# The size of the canvas\n",
    "fig = plt.figure(figsize=(7,15))\n",
    "\n",
    "# The scatter plot\n",
    "ax1 = fig.add_subplot(311)\n",
    "ax1.errorbar(x,y,yerr=y_sigma,marker='.',linestyle='',label=\"Measured data\")\n",
    "ax1.plot(x_fitfunc, y_fitfunc, marker=\"\", linestyle=\"-\", linewidth=2,color=\"r\", label=\"Fit\")\n",
    "ax1.set_xlabel(f\"{x_name} [{x_units}]\")\n",
    "ax1.set_ylabel(f\"{y_name} [{y_units}]\")\n",
    "ax1.set_title('Best Fit of Function to Data')\n",
    "\n",
    "# (Optional) set the x and y boundaries of your plot\n",
    "if set_xy_boundaries:\n",
    "    plt.xlim(lower_x,upper_x)\n",
    "    plt.ylim(lower_y,upper_y)\n",
    "# Show the legend. loc='best' places it where the date are least obstructed\n",
    "ax1.legend(loc='best',numpoints=1)\n",
    "\n",
    "# The residuals plot\n",
    "ax2 = fig.add_subplot(312)\n",
    "ax2.errorbar(x, residual, yerr=y_sigma,marker='.', linestyle='', label=\"Residual (y-y_fit)\")\n",
    "ax2.hlines(0,np.min(x),np.max(x),lw=2,alpha=0.8)\n",
    "ax2.set_xlabel(f\"{x_name} [{x_units}]\")\n",
    "ax2.set_ylabel(f\"y-y_fit [{y_units}]\")\n",
    "ax2.set_title('Residuals for the Best Fit')\n",
    "ax2.legend(loc='best',numpoints=1)\n",
    "\n",
    "# Histogram of the residuals\n",
    "ax3 = fig.add_subplot(313)\n",
    "hist,bins = np.histogram(residual,bins=30)\n",
    "ax3.bar(bins[:-1],hist,width=bins[1]-bins[0])\n",
    "ax3.set_ylim(0,1.2*np.max(hist))\n",
    "ax3.set_xlabel(f\"y-y_fit [{y_units}]\")\n",
    "ax3.set_ylabel('Number of occurences')\n",
    "ax3.set_title('Histogram of the Residuals')\n",
    "\n",
    "# Save a copy of the figure as a png \n",
    "plt.savefig('FittingResults.png')\n",
    "\n",
    "# Show the plot\n",
    "plt.show()"
   ]
  },
  {
   "cell_type": "markdown",
   "id": "cbe0417d-1438-4071-9189-41bded670ee6",
   "metadata": {},
   "source": [
    "The model does not describe the first few data points well (especially if 20Hz is included). A constant voltage offset helps a little, but still not a great fit. Data makes a smooth curve, so uncertainties seem ok, but the model is missing something."
   ]
  },
  {
   "cell_type": "markdown",
   "id": "1ad2fcfb-c649-4cea-8ae3-abccc990e13a",
   "metadata": {},
   "source": [
    "### Fit LRC model"
   ]
  },
  {
   "cell_type": "markdown",
   "id": "c72f1824-70fb-4df5-b02e-7355beeaf00b",
   "metadata": {},
   "source": [
    "For the LRC circuit need to plot the amplitude vs. frequency for the resonantor:\n",
    "$$V_R^0(f)=\\frac{V_{in}^0}{\\sqrt{1+(\\frac{2\\pi}{\\gamma f})^2(f^2-f_0^2)^2}}$$\n",
    "with f -> x, $\\gamma$ -> gamma, $V_{in}^0$ -> Vin, and $f_0$ -> f0\n",
    "\n",
    "Add function:\n",
    "`def LRCresp_func(x, f0, Vin, gamma):\n",
    "    return Vin/(np.sqrt(1+(2*np.pi/(gamma*x))**2*(x**2-f0**2)**2))`"
   ]
  },
  {
   "cell_type": "code",
   "execution_count": null,
   "id": "c665778b-be1f-4aff-8e6b-8807f7597bae",
   "metadata": {},
   "outputs": [],
   "source": [
    "# Load python packages\n",
    "import matplotlib.pyplot as plt\n",
    "import numpy as np\n",
    "from scipy.optimize import curve_fit\n",
    "\n",
    "###############################################################################\n",
    "# DEFINED FITTING FUNCTIONS\n",
    "###############################################################################\n",
    "\n",
    "def sine_func(x, amplitude, freq, phase):\n",
    "    return amplitude * np.sin(2.0 * np.pi * freq * x + phase)\n",
    "\n",
    "def offset_sine_func(x, amplitude, freq, phase, offset):\n",
    "    return (amplitude * np.sin(2.0 * np.pi * freq * x + phase)) + offset\n",
    "\n",
    "def exponential_func(x, amplitude, tau, voffset):\n",
    "    return amplitude * np.exp(x/(-1.0*tau)) + voffset\n",
    "\n",
    "def ringdown_function(x, amplitude, tau, resonantf, phase):\n",
    "    return amplitude * np.exp(-x/tau) * np.cos(2.0*np.pi * resonantf * x + phase)\n",
    "\n",
    "def linear_func(x, slope, intercept):\n",
    "    return slope * x + intercept\n",
    "\n",
    "def RCresp_func(x, tau, V0, voffset):\n",
    "    return V0/np.sqrt(1+(2*np.pi*tau*x)**2) + voffset\n",
    "\n",
    "def LRCresp_func(x, f0, Vin, gamma):\n",
    "    return Vin/(np.sqrt(1+(2*np.pi/(gamma*x))**2*(x**2-f0**2)**2))\n",
    "\n",
    "###############################################################################\n",
    "# LIST OF ALL INPUTS\n",
    "###############################################################################\n",
    "\n",
    "# Name of the data file\n",
    "fname = \"lab04_LRC_data.csv\"\n",
    "\n",
    "# Names and units of data columns from fname\n",
    "x_name = \"frequency\"\n",
    "x_units = \"Hz\"\n",
    "y_name = \"Voltage\"\n",
    "y_units = \"mV\"\n",
    "\n",
    "# Modify to change the fitting function, parameter names and to set initial parameter guesses\n",
    "fit_function = LRCresp_func\n",
    "param_names = (\"f0\", \"Vin\", \"gamma\")\n",
    "guesses = (220,870,20)\n",
    "\n",
    "# Flags for optional features\n",
    "show_covariance_matrix = False\n",
    "set_xy_boundaries = False\n",
    "lower_x = -0.01 # these values ignored if set_xy_boundaries = False\n",
    "upper_x = 0.01\n",
    "lower_y = -1\n",
    "upper_y = 1\n",
    "\n",
    "###############################################################################\n",
    "# LOAD DATA\n",
    "###############################################################################\n",
    "\n",
    "# load the file fname and skip the first 'skiprows' rows\n",
    "data = np.loadtxt(fname, delimiter=\",\", comments=\"#\", usecols=(0, 1, 2, 3), skiprows=2)\n",
    "\n",
    "# Assign the data file columns to variables for later use\n",
    "x = data[:, 0]\n",
    "y = data[:, 2]\n",
    "y_sigma = data[:, 3]\n",
    "\n",
    "###############################################################################\n",
    "# INITIAL PLOT OF THE DATA\n",
    "###############################################################################\n",
    "\n",
    "# Define 500 points spanning the range of the x-data; for plotting smooth curves\n",
    "xtheory = np.linspace(min(x), max(x), 500)\n",
    "\n",
    "# Compare the guessed curve to the data for visual reference\n",
    "y_guess = fit_function(xtheory, *guesses)\n",
    "plt.errorbar(x, y, yerr=y_sigma, marker=\".\", linestyle=\"\", label=\"Measured data\")\n",
    "plt.plot(\n",
    "    xtheory,\n",
    "    y_guess,\n",
    "    marker=\"\",\n",
    "    linestyle=\"-\",\n",
    "    linewidth=1,\n",
    "    color=\"g\",\n",
    "    label=\"Initial parameter guesses\",\n",
    ")\n",
    "plt.xlabel(f\"{x_name} [{x_units}]\")\n",
    "plt.ylabel(f\"{y_name} [{y_units}]\")\n",
    "plt.title(r\"Comparison between the data and the intial parameter guesses\")\n",
    "plt.legend(loc=\"best\", numpoints=1)\n",
    "plt.show()\n",
    "\n",
    "# calculate the value of the model at each of the x-values of the data set\n",
    "y_fit = fit_function(x, *guesses)\n",
    "\n",
    "# Residuals are the difference between the data and theory\n",
    "residual = y - y_fit\n",
    "\n",
    "# Plot the residuals\n",
    "plt.errorbar(x, residual, yerr=y_sigma, marker=\".\", linestyle=\"\", label=\"residuals\")\n",
    "plt.xlabel(f\"{x_name} [{x_units}]\")\n",
    "plt.ylabel(f\"Residual y-y_fit [{y_units}]\")\n",
    "plt.title(\"Residuals using initial parameter guesses\")\n",
    "plt.show()\n",
    "\n",
    "###############################################################################\n",
    "# PERFORM THE FIT AND PRINT RESULTS\n",
    "###############################################################################\n",
    "\n",
    "# Use curve_fit to perform the fit\n",
    "# fit_function: defined above to choose a specific fitting function \n",
    "# fit_params: holds the resulting fit parameters\n",
    "# fit_cov: the covariance matrix between all the parameters\n",
    "#          (used to extract fitting parameter uncertanties)\n",
    "# maxfev=10**5: maximum number of fitting procedure iterations before giving up\n",
    "# absolute_sigma=True: uncertainties are treated as absolute (not relative)\n",
    "fit_params, fit_cov = curve_fit(\n",
    "    fit_function, x, y, sigma=y_sigma, \n",
    "    p0=guesses,absolute_sigma=True, maxfev=10**5)\n",
    "\n",
    "# Define the function that calculates chi-squared\n",
    "def chi_square(fit_parameters, x, y, sigma):\n",
    "    dof = len(x) - len(fit_params)\n",
    "    return np.sum((y - fit_function(x, *fit_parameters)) ** 2 / sigma**2)/dof\n",
    "\n",
    "# Calculate and print reduced chi-squared\n",
    "chi2 = chi_square(fit_params, x, y, y_sigma)\n",
    "print(\"Chi-squared = \", chi2)\n",
    "\n",
    "# Calculate the uncertainties in the fit parameters\n",
    "fit_params_error = np.sqrt(np.diag(fit_cov))\n",
    "\n",
    "# Print the fit parameters with uncertianties\n",
    "print(\"\\nFit parameters:\")\n",
    "for i in range(len(fit_params)):\n",
    "    print(f\"   {param_names[i]} = {fit_params[i]:.3e} ± {fit_params_error[i]:.3e}\")\n",
    "print(\"\\n\")\n",
    "\n",
    "# (Optional) Print the covariance between all variables\n",
    "if show_covariance_matrix:\n",
    "    print(\"Covariance between fit parameters:\")\n",
    "    for i, fit_covariance in enumerate(fit_cov):\n",
    "        for j in range(i+1,len(fit_covariance)):\n",
    "            print(f\"   {param_names[i]} and {param_names[j]}: {fit_cov[i,j]:.3e}\")\n",
    "    print(\"\\n\")\n",
    "\n",
    "# residual is the difference between the data and model\n",
    "x_fitfunc = np.linspace(min(x), max(x), 500)\n",
    "y_fitfunc = fit_function(x_fitfunc, *fit_params)\n",
    "y_fit = fit_function(x, *fit_params)\n",
    "residual = y-y_fit\n",
    "\n",
    "###############################################################################\n",
    "# PRODUCE A MULTIPANEL PLOT, WITH SCATTER PLOT, RESIDUALS AND RESIDUALS HISTOGRAM\n",
    "###############################################################################\n",
    "\n",
    "# The size of the canvas\n",
    "fig = plt.figure(figsize=(7,15))\n",
    "\n",
    "# The scatter plot\n",
    "ax1 = fig.add_subplot(311)\n",
    "ax1.errorbar(x,y,yerr=y_sigma,marker='.',linestyle='',label=\"Measured data\")\n",
    "ax1.plot(x_fitfunc, y_fitfunc, marker=\"\", linestyle=\"-\", linewidth=2,color=\"r\", label=\"Fit\")\n",
    "ax1.set_xlabel(f\"{x_name} [{x_units}]\")\n",
    "ax1.set_ylabel(f\"{y_name} [{y_units}]\")\n",
    "ax1.set_title('Best Fit of Function to Data')\n",
    "\n",
    "# (Optional) set the x and y boundaries of your plot\n",
    "if set_xy_boundaries:\n",
    "    plt.xlim(lower_x,upper_x)\n",
    "    plt.ylim(lower_y,upper_y)\n",
    "# Show the legend. loc='best' places it where the date are least obstructed\n",
    "ax1.legend(loc='best',numpoints=1)\n",
    "\n",
    "# The residuals plot\n",
    "ax2 = fig.add_subplot(312)\n",
    "ax2.errorbar(x, residual, yerr=y_sigma,marker='.', linestyle='', label=\"Residual (y-y_fit)\")\n",
    "ax2.hlines(0,np.min(x),np.max(x),lw=2,alpha=0.8)\n",
    "ax2.set_xlabel(f\"{x_name} [{x_units}]\")\n",
    "ax2.set_ylabel(f\"y-y_fit [{y_units}]\")\n",
    "ax2.set_title('Residuals for the Best Fit')\n",
    "ax2.legend(loc='best',numpoints=1)\n",
    "\n",
    "# Histogram of the residuals\n",
    "ax3 = fig.add_subplot(313)\n",
    "hist,bins = np.histogram(residual,bins=30)\n",
    "ax3.bar(bins[:-1],hist,width=bins[1]-bins[0])\n",
    "ax3.set_ylim(0,1.2*np.max(hist))\n",
    "ax3.set_xlabel(f\"y-y_fit [{y_units}]\")\n",
    "ax3.set_ylabel('Number of occurences')\n",
    "ax3.set_title('Histogram of the Residuals')\n",
    "\n",
    "# Save a copy of the figure as a png \n",
    "plt.savefig('FittingResults.png')\n",
    "\n",
    "# Show the plot\n",
    "plt.show()"
   ]
  },
  {
   "cell_type": "markdown",
   "id": "94f8ff7c-37f7-47f3-a3b2-334a793bbb7f",
   "metadata": {},
   "source": [
    "## Don't forget to write some comments about the quality of the fit."
   ]
  },
  {
   "cell_type": "markdown",
   "id": "2e7aaa8d-9ba4-4360-959d-3cc5cff3ce91",
   "metadata": {
    "tags": []
   },
   "source": [
    "Also remember that you can circle back and add more data (if you're doing the analysis in the lab) if it looks like you need more, or find some problems. You might also need to adjust the model if there's a clear issue that can be addressed simply. Just remember to keep writing notes about what you are doing. This is not a lab report; it is supposed to be a diary of what you are doing all the way through the lab. Feel free to keep adding notebook cells below."
   ]
  },
  {
   "cell_type": "code",
   "execution_count": null,
   "id": "d499e5d3-e6ad-4ce7-a53e-8edff59598d7",
   "metadata": {},
   "outputs": [],
   "source": []
  }
 ],
 "metadata": {
  "kernelspec": {
   "display_name": "Python 3 (ipykernel)",
   "language": "python",
   "name": "python3"
  },
  "language_info": {
   "codemirror_mode": {
    "name": "ipython",
    "version": 3
   },
   "file_extension": ".py",
   "mimetype": "text/x-python",
   "name": "python",
   "nbconvert_exporter": "python",
   "pygments_lexer": "ipython3",
   "version": "3.12.4"
  },
  "widgets": {
   "application/vnd.jupyter.widget-state+json": {
    "state": {
     "00ab9fe9ced24db18ae87dbea5528188": {
      "model_module": "@jupyter-widgets/controls",
      "model_module_version": "2.0.0",
      "model_name": "ButtonStyleModel",
      "state": {
       "font_family": null,
       "font_size": null,
       "font_style": null,
       "font_variant": null,
       "font_weight": null,
       "text_color": null,
       "text_decoration": null
      }
     },
     "01a0101d4648435c8d5b92ea95475b1b": {
      "model_module": "@jupyter-widgets/base",
      "model_module_version": "2.0.0",
      "model_name": "LayoutModel",
      "state": {}
     },
     "029e0d5f1d3a488e89e9c535989d9ef9": {
      "model_module": "@jupyter-widgets/controls",
      "model_module_version": "2.0.0",
      "model_name": "ButtonModel",
      "state": {
       "description": "Add Column",
       "layout": "IPY_MODEL_3df39f2fb21149f887815d23550afaa3",
       "style": "IPY_MODEL_4608103c158b49918ae027a30380f64b",
       "tooltip": null
      }
     },
     "031c3a102c224599bb18293ce02b3bad": {
      "model_module": "@jupyter-widgets/controls",
      "model_module_version": "2.0.0",
      "model_name": "ButtonModel",
      "state": {
       "description": "Redo",
       "layout": "IPY_MODEL_77359b406940459db1726fafe1fa3329",
       "style": "IPY_MODEL_2cb7f84a265443ddbbb76142b0f906b4",
       "tooltip": null
      }
     },
     "06e6ad4cb7404f25a6317ac95d443f4b": {
      "model_module": "@jupyter-widgets/base",
      "model_module_version": "2.0.0",
      "model_name": "LayoutModel",
      "state": {}
     },
     "0a6ee127297a4f60996f5975550ebdd4": {
      "model_module": "@jupyter-widgets/base",
      "model_module_version": "2.0.0",
      "model_name": "LayoutModel",
      "state": {}
     },
     "0da3f0afa89a48d7be7ef2b1e1e06d5d": {
      "model_module": "ipydatagrid",
      "model_module_version": "^1.1.16",
      "model_name": "DataGridModel",
      "state": {
       "_data": {
        "data": [
         {
          "0": "",
          "1": "",
          "2": "",
          "ipydguuid": 0,
          "key": "  Variable:"
         },
         {
          "0": "",
          "1": "",
          "2": "",
          "ipydguuid": 1,
          "key": " Units:"
         },
         {
          "0": "",
          "1": "",
          "2": "",
          "ipydguuid": 2,
          "key": 0
         },
         {
          "0": "",
          "1": "",
          "2": "",
          "ipydguuid": 3,
          "key": 1
         },
         {
          "0": "",
          "1": "",
          "2": "",
          "ipydguuid": 4,
          "key": 2
         },
         {
          "0": "",
          "1": "",
          "2": "",
          "ipydguuid": 5,
          "key": 3
         },
         {
          "0": "",
          "1": "",
          "2": "",
          "ipydguuid": 6,
          "key": 4
         },
         {
          "0": "",
          "1": "",
          "2": "",
          "ipydguuid": 7,
          "key": 5
         },
         {
          "0": "",
          "1": "",
          "2": "",
          "ipydguuid": 8,
          "key": 6
         },
         {
          "0": "",
          "1": "",
          "2": "",
          "ipydguuid": 9,
          "key": 7
         }
        ],
        "fields": [
         {
          "key": null
         },
         {
          "0": null
         },
         {
          "1": null
         },
         {
          "2": null
         },
         {
          "ipydguuid": null
         }
        ],
        "schema": {
         "fields": [
          {
           "name": "key",
           "type": "string"
          },
          {
           "name": 0,
           "type": "string"
          },
          {
           "name": 1,
           "type": "string"
          },
          {
           "name": 2,
           "type": "string"
          },
          {
           "name": "ipydguuid",
           "type": "integer"
          }
         ],
         "pandas_version": "1.4.0",
         "primaryKey": [
          "key",
          "ipydguuid"
         ],
         "primaryKeyUuid": "ipydguuid"
        }
       },
       "_model_module_version": "^1.1.16",
       "_model_name": "DataGridModel",
       "_view_module_version": "^1.1.16",
       "auto_fit_columns": false,
       "auto_fit_params": {
        "area": "all",
        "numCols": null,
        "padding": 30
       },
       "base_column_header_size": 20,
       "base_column_size": 64,
       "base_row_header_size": 64,
       "base_row_size": 20,
       "default_renderer": "IPY_MODEL_7de895ce5baa4de1ac176b03b4b10ae3",
       "editable": true,
       "header_visibility": "all",
       "layout": "IPY_MODEL_21f93dd62ce04521a253abdaa56d44bb",
       "selection_mode": "cell"
      }
     },
     "12b544e3380442f0aa164174f1cad3de": {
      "model_module": "@jupyter-widgets/controls",
      "model_module_version": "2.0.0",
      "model_name": "ButtonModel",
      "state": {
       "description": "Generate Vectors",
       "layout": "IPY_MODEL_58f3e5f6aed44ea5964db7c71a888835",
       "style": "IPY_MODEL_a847c63a3c9a45989c9b2beb31d5fc60",
       "tooltip": null
      }
     },
     "12e447b12a4542368e1bf460b74a5a74": {
      "model_module": "@jupyter-widgets/controls",
      "model_module_version": "2.0.0",
      "model_name": "ButtonModel",
      "state": {
       "description": "Undo",
       "layout": "IPY_MODEL_d334ff0dec11433fb7d25cb0d363464b",
       "style": "IPY_MODEL_7db67aba1f114bf79ef9c9cead2b4dce",
       "tooltip": null
      }
     },
     "172c4a0c7bd74513ab4651e538f4c7f7": {
      "model_module": "@jupyter-widgets/output",
      "model_module_version": "1.0.0",
      "model_name": "OutputModel",
      "state": {
       "layout": "IPY_MODEL_618606e4200f476997558b6c2a2cc902"
      }
     },
     "19096bc9e2aa4fe08949297565761238": {
      "model_module": "@jupyter-widgets/controls",
      "model_module_version": "2.0.0",
      "model_name": "ButtonStyleModel",
      "state": {
       "font_family": null,
       "font_size": null,
       "font_style": null,
       "font_variant": null,
       "font_weight": null,
       "text_color": null,
       "text_decoration": null
      }
     },
     "1a06fce92cd84997a31c65fee5825f35": {
      "model_module": "@jupyter-widgets/base",
      "model_module_version": "2.0.0",
      "model_name": "LayoutModel",
      "state": {}
     },
     "1c59d7ae3b6d4837940e319a3eed01ad": {
      "model_module": "@jupyter-widgets/controls",
      "model_module_version": "2.0.0",
      "model_name": "ButtonModel",
      "state": {
       "description": "Redo",
       "layout": "IPY_MODEL_7bd9a62a1a614a318e9a50461cd19828",
       "style": "IPY_MODEL_00ab9fe9ced24db18ae87dbea5528188",
       "tooltip": null
      }
     },
     "205c95be2b4c43bfa6462b359b8c9cff": {
      "model_module": "@jupyter-widgets/base",
      "model_module_version": "2.0.0",
      "model_name": "LayoutModel",
      "state": {}
     },
     "21f93dd62ce04521a253abdaa56d44bb": {
      "model_module": "@jupyter-widgets/base",
      "model_module_version": "2.0.0",
      "model_name": "LayoutModel",
      "state": {
       "height": "250px"
      }
     },
     "2487747c774e46ca9575c0acf71a4a7d": {
      "model_module": "@jupyter-widgets/base",
      "model_module_version": "2.0.0",
      "model_name": "LayoutModel",
      "state": {}
     },
     "25a67ad9a32f4fc0a0ea48a38b5f349e": {
      "model_module": "ipydatagrid",
      "model_module_version": "^1.1.16",
      "model_name": "VegaExprModel",
      "state": {
       "_model_module_version": "^1.1.16",
       "_view_module": "ipydatagrid",
       "_view_module_version": "^1.1.16",
       "_view_name": "VegaExprView"
      }
     },
     "264b923a430948b6b196e9f0b09dfdcd": {
      "model_module": "@jupyter-widgets/base",
      "model_module_version": "2.0.0",
      "model_name": "LayoutModel",
      "state": {}
     },
     "26a7df9d151a44588ef491ae08ca4cbf": {
      "model_module": "@jupyter-widgets/base",
      "model_module_version": "2.0.0",
      "model_name": "LayoutModel",
      "state": {}
     },
     "2954455c042347f28df0b80f73a35a8e": {
      "model_module": "@jupyter-widgets/base",
      "model_module_version": "2.0.0",
      "model_name": "LayoutModel",
      "state": {}
     },
     "2b87a8cbe88e4129a598c0b19813f2f3": {
      "model_module": "@jupyter-widgets/controls",
      "model_module_version": "2.0.0",
      "model_name": "ButtonModel",
      "state": {
       "description": "Generate Vectors",
       "layout": "IPY_MODEL_1a06fce92cd84997a31c65fee5825f35",
       "style": "IPY_MODEL_db98aa3ea6304ddb971119077977559c",
       "tooltip": null
      }
     },
     "2cb7f84a265443ddbbb76142b0f906b4": {
      "model_module": "@jupyter-widgets/controls",
      "model_module_version": "2.0.0",
      "model_name": "ButtonStyleModel",
      "state": {
       "font_family": null,
       "font_size": null,
       "font_style": null,
       "font_variant": null,
       "font_weight": null,
       "text_color": null,
       "text_decoration": null
      }
     },
     "309144b1532345f9bcd993a04b6b3170": {
      "model_module": "@jupyter-widgets/base",
      "model_module_version": "2.0.0",
      "model_name": "LayoutModel",
      "state": {
       "height": "490px"
      }
     },
     "39199c59f72c4c5c858835dcde019278": {
      "model_module": "ipydatagrid",
      "model_module_version": "^1.1.16",
      "model_name": "VegaExprModel",
      "state": {
       "_model_module_version": "^1.1.16",
       "_view_module": "ipydatagrid",
       "_view_module_version": "^1.1.16",
       "_view_name": "VegaExprView"
      }
     },
     "3df39f2fb21149f887815d23550afaa3": {
      "model_module": "@jupyter-widgets/base",
      "model_module_version": "2.0.0",
      "model_name": "LayoutModel",
      "state": {}
     },
     "410f9bdceac746cab400b6b2e07ea2b5": {
      "model_module": "@jupyter-widgets/controls",
      "model_module_version": "2.0.0",
      "model_name": "ButtonStyleModel",
      "state": {
       "font_family": null,
       "font_size": null,
       "font_style": null,
       "font_variant": null,
       "font_weight": null,
       "text_color": null,
       "text_decoration": null
      }
     },
     "44e08e7401274bdc8f00535b7068415b": {
      "model_module": "@jupyter-widgets/controls",
      "model_module_version": "2.0.0",
      "model_name": "ButtonModel",
      "state": {
       "description": "Add Column",
       "layout": "IPY_MODEL_9338c17260fb43c69d29d079794f2b2c",
       "style": "IPY_MODEL_410f9bdceac746cab400b6b2e07ea2b5",
       "tooltip": null
      }
     },
     "4608103c158b49918ae027a30380f64b": {
      "model_module": "@jupyter-widgets/controls",
      "model_module_version": "2.0.0",
      "model_name": "ButtonStyleModel",
      "state": {
       "font_family": null,
       "font_size": null,
       "font_style": null,
       "font_variant": null,
       "font_weight": null,
       "text_color": null,
       "text_decoration": null
      }
     },
     "4ede4d834770419885178d3fe8972eb0": {
      "model_module": "@jupyter-widgets/controls",
      "model_module_version": "2.0.0",
      "model_name": "ButtonModel",
      "state": {
       "description": "Add Row",
       "layout": "IPY_MODEL_904ab78bab354400b569fe9f69a2f3bb",
       "style": "IPY_MODEL_68fef00145d241baaf670974a98ef8e9",
       "tooltip": null
      }
     },
     "58f3e5f6aed44ea5964db7c71a888835": {
      "model_module": "@jupyter-widgets/base",
      "model_module_version": "2.0.0",
      "model_name": "LayoutModel",
      "state": {}
     },
     "5a51d7dd5d094a7598e9c686d4f281e7": {
      "model_module": "@jupyter-widgets/controls",
      "model_module_version": "2.0.0",
      "model_name": "ButtonModel",
      "state": {
       "description": "Undo",
       "layout": "IPY_MODEL_01a0101d4648435c8d5b92ea95475b1b",
       "style": "IPY_MODEL_60e3dd4d6ef0457da7d5292f1bdfbb42",
       "tooltip": null
      }
     },
     "5a526f1531704ef784f4650075986cdb": {
      "model_module": "@jupyter-widgets/controls",
      "model_module_version": "2.0.0",
      "model_name": "ButtonModel",
      "state": {
       "description": "Generate Vectors",
       "layout": "IPY_MODEL_7ec4360b28564fb59e9dacfd722dad11",
       "style": "IPY_MODEL_b6dc3be096d4479ca1756a0ef2e3cf24",
       "tooltip": null
      }
     },
     "5dc7182c22d040e7a3e7b079070332df": {
      "model_module": "@jupyter-widgets/controls",
      "model_module_version": "2.0.0",
      "model_name": "VBoxModel",
      "state": {
       "children": [
        "IPY_MODEL_779d3560adfe4fb58beb6092fe438e55",
        "IPY_MODEL_6e3a94aabd6d49fdbeaccaf31285d9ae",
        "IPY_MODEL_9714df45eee2409fb6a007d7180e7503"
       ],
       "layout": "IPY_MODEL_8da6ac82d7ca4c2f933dfa485747b496"
      }
     },
     "60e3dd4d6ef0457da7d5292f1bdfbb42": {
      "model_module": "@jupyter-widgets/controls",
      "model_module_version": "2.0.0",
      "model_name": "ButtonStyleModel",
      "state": {
       "font_family": null,
       "font_size": null,
       "font_style": null,
       "font_variant": null,
       "font_weight": null,
       "text_color": null,
       "text_decoration": null
      }
     },
     "618606e4200f476997558b6c2a2cc902": {
      "model_module": "@jupyter-widgets/base",
      "model_module_version": "2.0.0",
      "model_name": "LayoutModel",
      "state": {}
     },
     "62893c21f51b482489b3f8a0a6b5b0aa": {
      "model_module": "@jupyter-widgets/base",
      "model_module_version": "2.0.0",
      "model_name": "LayoutModel",
      "state": {}
     },
     "66bd3f96fa2d46e8ada86a3e3570bbc6": {
      "model_module": "@jupyter-widgets/controls",
      "model_module_version": "2.0.0",
      "model_name": "HBoxModel",
      "state": {
       "children": [
        "IPY_MODEL_12e447b12a4542368e1bf460b74a5a74",
        "IPY_MODEL_cb1fea5b9e044cbfa5f6ccabe3a38bf4",
        "IPY_MODEL_4ede4d834770419885178d3fe8972eb0",
        "IPY_MODEL_a1aeba7b4c264911bb5cb7586289fbdb",
        "IPY_MODEL_5a526f1531704ef784f4650075986cdb"
       ],
       "layout": "IPY_MODEL_6ba13056f0a14ebfacb811af3ef5fb4a"
      }
     },
     "68fef00145d241baaf670974a98ef8e9": {
      "model_module": "@jupyter-widgets/controls",
      "model_module_version": "2.0.0",
      "model_name": "ButtonStyleModel",
      "state": {
       "font_family": null,
       "font_size": null,
       "font_style": null,
       "font_variant": null,
       "font_weight": null,
       "text_color": null,
       "text_decoration": null
      }
     },
     "69b24373b781449c98275143cb9854b3": {
      "model_module": "ipydatagrid",
      "model_module_version": "^1.1.16",
      "model_name": "VegaExprModel",
      "state": {
       "_model_module_version": "^1.1.16",
       "_view_module": "ipydatagrid",
       "_view_module_version": "^1.1.16",
       "_view_name": "VegaExprView"
      }
     },
     "6ba13056f0a14ebfacb811af3ef5fb4a": {
      "model_module": "@jupyter-widgets/base",
      "model_module_version": "2.0.0",
      "model_name": "LayoutModel",
      "state": {}
     },
     "6e3a94aabd6d49fdbeaccaf31285d9ae": {
      "model_module": "ipydatagrid",
      "model_module_version": "^1.1.16",
      "model_name": "DataGridModel",
      "state": {
       "_data": {
        "data": [
         {
          "0": "f",
          "1": "df",
          "2": "Vc",
          "3": "dVc",
          "ipydguuid": 0,
          "key": "  Variable:"
         },
         {
          "0": "Hz",
          "1": "Hz",
          "2": "mV",
          "3": "mV",
          "ipydguuid": 1,
          "key": " Units:"
         },
         {
          "0": "50",
          "1": "0.01",
          "2": "870",
          "3": "4",
          "ipydguuid": 2,
          "key": 0
         },
         {
          "0": "100",
          "1": "0.01",
          "2": "836",
          "3": "4",
          "ipydguuid": 3,
          "key": 1
         },
         {
          "0": "200",
          "1": "0.05",
          "2": "734",
          "3": "4",
          "ipydguuid": 4,
          "key": 2
         },
         {
          "0": "300",
          "1": "0.05",
          "2": "626",
          "3": "4",
          "ipydguuid": 5,
          "key": 3
         },
         {
          "0": "400",
          "1": "0.05",
          "2": "526",
          "3": "4",
          "ipydguuid": 6,
          "key": 4
         },
         {
          "0": "500",
          "1": "0.05",
          "2": "449",
          "3": "2",
          "ipydguuid": 7,
          "key": 5
         },
         {
          "0": "600",
          "1": "0.05",
          "2": "390",
          "3": "2",
          "ipydguuid": 8,
          "key": 6
         },
         {
          "0": "700",
          "1": "0.05",
          "2": "343",
          "3": "3",
          "ipydguuid": 9,
          "key": 7
         },
         {
          "0": "800",
          "1": "0.3",
          "2": "307",
          "3": "2",
          "ipydguuid": 10,
          "key": 8
         },
         {
          "0": "900",
          "1": "0.3",
          "2": "278",
          "3": "2",
          "ipydguuid": 11,
          "key": 9
         },
         {
          "0": "1000",
          "1": "0.1",
          "2": "251",
          "3": "2",
          "ipydguuid": 12,
          "key": 10
         },
         {
          "0": "1100",
          "1": "0.1",
          "2": "230",
          "3": "2",
          "ipydguuid": 13,
          "key": 11
         },
         {
          "0": "1200",
          "1": "0.5",
          "2": "212",
          "3": "2",
          "ipydguuid": 14,
          "key": 12
         },
         {
          "0": "1400",
          "1": "0.5",
          "2": "184",
          "3": "1",
          "ipydguuid": 15,
          "key": 13
         },
         {
          "0": "1600",
          "1": "0.5",
          "2": "162",
          "3": "1",
          "ipydguuid": 16,
          "key": 14
         },
         {
          "0": "1800",
          "1": "0.5",
          "2": "144",
          "3": "1",
          "ipydguuid": 17,
          "key": 15
         },
         {
          "0": "2000",
          "1": "0.5",
          "2": "131",
          "3": "1",
          "ipydguuid": 18,
          "key": 16
         },
         {
          "0": "2400",
          "1": "0.5",
          "2": "109",
          "3": "1",
          "ipydguuid": 19,
          "key": 17
         },
         {
          "0": "2800",
          "1": "0.5",
          "2": "93.6",
          "3": "0.8",
          "ipydguuid": 20,
          "key": 18
         },
         {
          "0": "4000",
          "1": "1",
          "2": "66",
          "3": "0.8",
          "ipydguuid": 21,
          "key": 19
         }
        ],
        "fields": [
         {
          "key": null
         },
         {
          "0": null
         },
         {
          "1": null
         },
         {
          "2": null
         },
         {
          "3": null
         },
         {
          "ipydguuid": null
         }
        ],
        "schema": {
         "fields": [
          {
           "name": "key",
           "type": "string"
          },
          {
           "name": 0,
           "type": "string"
          },
          {
           "name": 1,
           "type": "string"
          },
          {
           "name": 2,
           "type": "string"
          },
          {
           "name": 3,
           "type": "string"
          },
          {
           "name": "ipydguuid",
           "type": "integer"
          }
         ],
         "pandas_version": "1.4.0",
         "primaryKey": [
          "key",
          "ipydguuid"
         ],
         "primaryKeyUuid": "ipydguuid"
        }
       },
       "_model_module_version": "^1.1.16",
       "_model_name": "DataGridModel",
       "_view_module_version": "^1.1.16",
       "auto_fit_columns": false,
       "auto_fit_params": {
        "area": "all",
        "numCols": null,
        "padding": 30
       },
       "base_column_header_size": 20,
       "base_column_size": 64,
       "base_row_header_size": 64,
       "base_row_size": 20,
       "default_renderer": "IPY_MODEL_82323da761dd463b94311a9a9596b582",
       "editable": true,
       "header_visibility": "all",
       "layout": "IPY_MODEL_309144b1532345f9bcd993a04b6b3170",
       "selection_mode": "cell"
      }
     },
     "6e5089ba371d475cac3cbf35f59b49eb": {
      "model_module": "@jupyter-widgets/controls",
      "model_module_version": "2.0.0",
      "model_name": "ButtonModel",
      "state": {
       "description": "Add Row",
       "layout": "IPY_MODEL_0a6ee127297a4f60996f5975550ebdd4",
       "style": "IPY_MODEL_c95b943b3d6a426ea1b9e69955ca6b97",
       "tooltip": null
      }
     },
     "70e205136c2541448855674c36313508": {
      "model_module": "@jupyter-widgets/base",
      "model_module_version": "2.0.0",
      "model_name": "LayoutModel",
      "state": {}
     },
     "72f9283a73384bf782a9c578466aab81": {
      "model_module": "@jupyter-widgets/base",
      "model_module_version": "2.0.0",
      "model_name": "LayoutModel",
      "state": {}
     },
     "73581b75a5a241988634f45e63fa6953": {
      "model_module": "ipydatagrid",
      "model_module_version": "^1.1.16",
      "model_name": "DataGridModel",
      "state": {
       "_data": {
        "data": [
         {
          "0": "f",
          "1": "df",
          "2": "Vr",
          "3": "dVr",
          "ipydguuid": 0,
          "key": "  Variable:"
         },
         {
          "0": "kHz",
          "1": "kHz",
          "2": "mV",
          "3": "mV",
          "ipydguuid": 1,
          "key": " Units:"
         },
         {
          "0": "10",
          "1": "0.005",
          "2": "17.4",
          "3": "0.6",
          "ipydguuid": 2,
          "key": 0
         },
         {
          "0": "40",
          "1": "0.01",
          "2": "90",
          "3": "0.6",
          "ipydguuid": 3,
          "key": 1
         },
         {
          "0": "50",
          "1": "0.01",
          "2": "136",
          "3": "4",
          "ipydguuid": 4,
          "key": 2
         },
         {
          "0": "60",
          "1": "0.01",
          "2": "216",
          "3": "2",
          "ipydguuid": 5,
          "key": 3
         },
         {
          "0": "70",
          "1": "0.01",
          "2": "414",
          "3": "2",
          "ipydguuid": 6,
          "key": 4
         },
         {
          "0": "75",
          "1": "0.01",
          "2": "668",
          "3": "8",
          "ipydguuid": 7,
          "key": 5
         },
         {
          "0": "76",
          "1": "0.01",
          "2": "740",
          "3": "8",
          "ipydguuid": 8,
          "key": 6
         },
         {
          "0": "77",
          "1": "0.01",
          "2": "840",
          "3": "8",
          "ipydguuid": 9,
          "key": 7
         },
         {
          "0": "78",
          "1": "0.01",
          "2": "944",
          "3": "8",
          "ipydguuid": 10,
          "key": 8
         },
         {
          "0": "79",
          "1": "0.01",
          "2": "1060",
          "3": "8",
          "ipydguuid": 11,
          "key": 9
         },
         {
          "0": "80",
          "1": "0.01",
          "2": "1160",
          "3": "8",
          "ipydguuid": 12,
          "key": 10
         },
         {
          "0": "81",
          "1": "0.01",
          "2": "1230",
          "3": "8",
          "ipydguuid": 13,
          "key": 11
         },
         {
          "0": "82",
          "1": "0.01",
          "2": "1240",
          "3": "8",
          "ipydguuid": 14,
          "key": 12
         },
         {
          "0": "83",
          "1": "0.01",
          "2": "1200",
          "3": "8",
          "ipydguuid": 15,
          "key": 13
         },
         {
          "0": "84",
          "1": "0.01",
          "2": "1120",
          "3": "8",
          "ipydguuid": 16,
          "key": 14
         },
         {
          "0": "85",
          "1": "0.01",
          "2": "1020",
          "3": "8",
          "ipydguuid": 17,
          "key": 15
         },
         {
          "0": "86",
          "1": "0.01",
          "2": "920",
          "3": "8",
          "ipydguuid": 18,
          "key": 16
         },
         {
          "0": "87",
          "1": "0.01",
          "2": "832",
          "3": "8",
          "ipydguuid": 19,
          "key": 17
         },
         {
          "0": "88",
          "1": "0.01",
          "2": "756",
          "3": "8",
          "ipydguuid": 20,
          "key": 18
         },
         {
          "0": "89",
          "1": "0.01",
          "2": "688",
          "3": "8",
          "ipydguuid": 21,
          "key": 19
         },
         {
          "0": "90",
          "1": "0.01",
          "2": "624",
          "3": "8",
          "ipydguuid": 22,
          "key": 20
         },
         {
          "0": "92",
          "1": "0.01",
          "2": "532",
          "3": "4",
          "ipydguuid": 23,
          "key": 21
         },
         {
          "0": "94",
          "1": "0.01",
          "2": "460",
          "3": "4",
          "ipydguuid": 24,
          "key": 22
         },
         {
          "0": "96",
          "1": "0.01",
          "2": "406",
          "3": "4",
          "ipydguuid": 25,
          "key": 23
         },
         {
          "0": "100",
          "1": "0.01",
          "2": "326",
          "3": "4",
          "ipydguuid": 26,
          "key": 24
         },
         {
          "0": "110",
          "1": "0.05",
          "2": "221",
          "3": "2",
          "ipydguuid": 27,
          "key": 25
         },
         {
          "0": "120",
          "1": "0.05",
          "2": "167",
          "3": "2",
          "ipydguuid": 28,
          "key": 26
         },
         {
          "0": "130",
          "1": "0.05",
          "2": "134",
          "3": "2",
          "ipydguuid": 29,
          "key": 27
         },
         {
          "0": "150",
          "1": "0.05",
          "2": "96.4",
          "3": "0.2",
          "ipydguuid": 30,
          "key": 28
         },
         {
          "0": "200",
          "1": "0.05",
          "2": "54",
          "3": "0.6",
          "ipydguuid": 31,
          "key": 29
         },
         {
          "0": "250",
          "1": "0.05",
          "2": "33.6",
          "3": "0.6",
          "ipydguuid": 32,
          "key": 30
         },
         {
          "0": "300",
          "1": "0.05",
          "2": "21",
          "3": "0.6",
          "ipydguuid": 33,
          "key": 31
         }
        ],
        "fields": [
         {
          "key": null
         },
         {
          "0": null
         },
         {
          "1": null
         },
         {
          "2": null
         },
         {
          "3": null
         },
         {
          "ipydguuid": null
         }
        ],
        "schema": {
         "fields": [
          {
           "name": "key",
           "type": "string"
          },
          {
           "name": 0,
           "type": "string"
          },
          {
           "name": 1,
           "type": "string"
          },
          {
           "name": 2,
           "type": "string"
          },
          {
           "name": 3,
           "type": "string"
          },
          {
           "name": "ipydguuid",
           "type": "integer"
          }
         ],
         "pandas_version": "1.4.0",
         "primaryKey": [
          "key",
          "ipydguuid"
         ],
         "primaryKeyUuid": "ipydguuid"
        }
       },
       "_model_module_version": "^1.1.16",
       "_model_name": "DataGridModel",
       "_view_module_version": "^1.1.16",
       "auto_fit_columns": false,
       "auto_fit_params": {
        "area": "all",
        "numCols": null,
        "padding": 30
       },
       "base_column_header_size": 20,
       "base_column_size": 64,
       "base_row_header_size": 64,
       "base_row_size": 20,
       "default_renderer": "IPY_MODEL_798470d2c55946c3b961d239886ec6a0",
       "editable": true,
       "header_visibility": "all",
       "layout": "IPY_MODEL_fa5a1faabf56479db4e446f0f2c65c2c",
       "selection_mode": "cell"
      }
     },
     "759eb171482042bca395ba6f2e057f5b": {
      "model_module": "@jupyter-widgets/controls",
      "model_module_version": "2.0.0",
      "model_name": "ButtonStyleModel",
      "state": {
       "font_family": null,
       "font_size": null,
       "font_style": null,
       "font_variant": null,
       "font_weight": null,
       "text_color": null,
       "text_decoration": null
      }
     },
     "77359b406940459db1726fafe1fa3329": {
      "model_module": "@jupyter-widgets/base",
      "model_module_version": "2.0.0",
      "model_name": "LayoutModel",
      "state": {}
     },
     "779d3560adfe4fb58beb6092fe438e55": {
      "model_module": "@jupyter-widgets/controls",
      "model_module_version": "2.0.0",
      "model_name": "HBoxModel",
      "state": {
       "children": [
        "IPY_MODEL_5a51d7dd5d094a7598e9c686d4f281e7",
        "IPY_MODEL_1c59d7ae3b6d4837940e319a3eed01ad",
        "IPY_MODEL_e73610e7632e4f2995dbc946d72e78ca",
        "IPY_MODEL_44e08e7401274bdc8f00535b7068415b",
        "IPY_MODEL_2b87a8cbe88e4129a598c0b19813f2f3"
       ],
       "layout": "IPY_MODEL_c3f216ab31304d85b52a7c82bf5a223f"
      }
     },
     "798470d2c55946c3b961d239886ec6a0": {
      "model_module": "ipydatagrid",
      "model_module_version": "^1.1.16",
      "model_name": "TextRendererModel",
      "state": {
       "_model_module_version": "^1.1.16",
       "_view_module_version": "^1.1.16",
       "background_color": "IPY_MODEL_69b24373b781449c98275143cb9854b3",
       "text_color": "IPY_MODEL_39199c59f72c4c5c858835dcde019278"
      }
     },
     "7bd9a62a1a614a318e9a50461cd19828": {
      "model_module": "@jupyter-widgets/base",
      "model_module_version": "2.0.0",
      "model_name": "LayoutModel",
      "state": {}
     },
     "7db67aba1f114bf79ef9c9cead2b4dce": {
      "model_module": "@jupyter-widgets/controls",
      "model_module_version": "2.0.0",
      "model_name": "ButtonStyleModel",
      "state": {
       "font_family": null,
       "font_size": null,
       "font_style": null,
       "font_variant": null,
       "font_weight": null,
       "text_color": null,
       "text_decoration": null
      }
     },
     "7de895ce5baa4de1ac176b03b4b10ae3": {
      "model_module": "ipydatagrid",
      "model_module_version": "^1.1.16",
      "model_name": "TextRendererModel",
      "state": {
       "_model_module_version": "^1.1.16",
       "_view_module_version": "^1.1.16",
       "background_color": "IPY_MODEL_ab06ab58b2494fb187b317025bf19ec5",
       "text_color": "IPY_MODEL_d50fd800c1914d72937bb29a137aec3b"
      }
     },
     "7e01e0bc5a5c43dc9fc16138de78c3d4": {
      "model_module": "@jupyter-widgets/controls",
      "model_module_version": "2.0.0",
      "model_name": "HBoxModel",
      "state": {
       "children": [
        "IPY_MODEL_da19a9fbc86d44a387837e937371da9c",
        "IPY_MODEL_031c3a102c224599bb18293ce02b3bad",
        "IPY_MODEL_6e5089ba371d475cac3cbf35f59b49eb",
        "IPY_MODEL_029e0d5f1d3a488e89e9c535989d9ef9",
        "IPY_MODEL_12b544e3380442f0aa164174f1cad3de"
       ],
       "layout": "IPY_MODEL_264b923a430948b6b196e9f0b09dfdcd"
      }
     },
     "7ec4360b28564fb59e9dacfd722dad11": {
      "model_module": "@jupyter-widgets/base",
      "model_module_version": "2.0.0",
      "model_name": "LayoutModel",
      "state": {}
     },
     "82323da761dd463b94311a9a9596b582": {
      "model_module": "ipydatagrid",
      "model_module_version": "^1.1.16",
      "model_name": "TextRendererModel",
      "state": {
       "_model_module_version": "^1.1.16",
       "_view_module_version": "^1.1.16",
       "background_color": "IPY_MODEL_c7f3cb20c0ed4b80994135c606a6b637",
       "text_color": "IPY_MODEL_25a67ad9a32f4fc0a0ea48a38b5f349e"
      }
     },
     "8da6ac82d7ca4c2f933dfa485747b496": {
      "model_module": "@jupyter-widgets/base",
      "model_module_version": "2.0.0",
      "model_name": "LayoutModel",
      "state": {}
     },
     "8e3716163a1a43c7a53c435d6a5d245a": {
      "model_module": "@jupyter-widgets/controls",
      "model_module_version": "2.0.0",
      "model_name": "ButtonStyleModel",
      "state": {
       "font_family": null,
       "font_size": null,
       "font_style": null,
       "font_variant": null,
       "font_weight": null,
       "text_color": null,
       "text_decoration": null
      }
     },
     "904ab78bab354400b569fe9f69a2f3bb": {
      "model_module": "@jupyter-widgets/base",
      "model_module_version": "2.0.0",
      "model_name": "LayoutModel",
      "state": {}
     },
     "9338c17260fb43c69d29d079794f2b2c": {
      "model_module": "@jupyter-widgets/base",
      "model_module_version": "2.0.0",
      "model_name": "LayoutModel",
      "state": {}
     },
     "95214df8bd694f2290441c391c8a72c0": {
      "model_module": "@jupyter-widgets/controls",
      "model_module_version": "2.0.0",
      "model_name": "VBoxModel",
      "state": {
       "children": [
        "IPY_MODEL_7e01e0bc5a5c43dc9fc16138de78c3d4",
        "IPY_MODEL_73581b75a5a241988634f45e63fa6953",
        "IPY_MODEL_e39e332ba44542b2bc42435e2c4eb9c6"
       ],
       "layout": "IPY_MODEL_26a7df9d151a44588ef491ae08ca4cbf"
      }
     },
     "9714df45eee2409fb6a007d7180e7503": {
      "model_module": "@jupyter-widgets/output",
      "model_module_version": "1.0.0",
      "model_name": "OutputModel",
      "state": {
       "layout": "IPY_MODEL_2954455c042347f28df0b80f73a35a8e"
      }
     },
     "9becc3eaadb94dbd84b2d39f9bce1837": {
      "model_module": "@jupyter-widgets/base",
      "model_module_version": "2.0.0",
      "model_name": "LayoutModel",
      "state": {}
     },
     "a1aeba7b4c264911bb5cb7586289fbdb": {
      "model_module": "@jupyter-widgets/controls",
      "model_module_version": "2.0.0",
      "model_name": "ButtonModel",
      "state": {
       "description": "Add Column",
       "layout": "IPY_MODEL_62893c21f51b482489b3f8a0a6b5b0aa",
       "style": "IPY_MODEL_759eb171482042bca395ba6f2e057f5b",
       "tooltip": null
      }
     },
     "a7adc1c4276147d6a593b31e265d54cf": {
      "model_module": "@jupyter-widgets/controls",
      "model_module_version": "2.0.0",
      "model_name": "ButtonStyleModel",
      "state": {
       "font_family": null,
       "font_size": null,
       "font_style": null,
       "font_variant": null,
       "font_weight": null,
       "text_color": null,
       "text_decoration": null
      }
     },
     "a847c63a3c9a45989c9b2beb31d5fc60": {
      "model_module": "@jupyter-widgets/controls",
      "model_module_version": "2.0.0",
      "model_name": "ButtonStyleModel",
      "state": {
       "font_family": null,
       "font_size": null,
       "font_style": null,
       "font_variant": null,
       "font_weight": null,
       "text_color": null,
       "text_decoration": null
      }
     },
     "ab06ab58b2494fb187b317025bf19ec5": {
      "model_module": "ipydatagrid",
      "model_module_version": "^1.1.16",
      "model_name": "VegaExprModel",
      "state": {
       "_model_module_version": "^1.1.16",
       "_view_module": "ipydatagrid",
       "_view_module_version": "^1.1.16",
       "_view_name": "VegaExprView"
      }
     },
     "b6dc3be096d4479ca1756a0ef2e3cf24": {
      "model_module": "@jupyter-widgets/controls",
      "model_module_version": "2.0.0",
      "model_name": "ButtonStyleModel",
      "state": {
       "font_family": null,
       "font_size": null,
       "font_style": null,
       "font_variant": null,
       "font_weight": null,
       "text_color": null,
       "text_decoration": null
      }
     },
     "beb91325a85a4d80b577a6bc89bab7fe": {
      "model_module": "@jupyter-widgets/base",
      "model_module_version": "2.0.0",
      "model_name": "LayoutModel",
      "state": {}
     },
     "c3f216ab31304d85b52a7c82bf5a223f": {
      "model_module": "@jupyter-widgets/base",
      "model_module_version": "2.0.0",
      "model_name": "LayoutModel",
      "state": {}
     },
     "c7f3cb20c0ed4b80994135c606a6b637": {
      "model_module": "ipydatagrid",
      "model_module_version": "^1.1.16",
      "model_name": "VegaExprModel",
      "state": {
       "_model_module_version": "^1.1.16",
       "_view_module": "ipydatagrid",
       "_view_module_version": "^1.1.16",
       "_view_name": "VegaExprView"
      }
     },
     "c95b943b3d6a426ea1b9e69955ca6b97": {
      "model_module": "@jupyter-widgets/controls",
      "model_module_version": "2.0.0",
      "model_name": "ButtonStyleModel",
      "state": {
       "font_family": null,
       "font_size": null,
       "font_style": null,
       "font_variant": null,
       "font_weight": null,
       "text_color": null,
       "text_decoration": null
      }
     },
     "cb1fea5b9e044cbfa5f6ccabe3a38bf4": {
      "model_module": "@jupyter-widgets/controls",
      "model_module_version": "2.0.0",
      "model_name": "ButtonModel",
      "state": {
       "description": "Redo",
       "layout": "IPY_MODEL_205c95be2b4c43bfa6462b359b8c9cff",
       "style": "IPY_MODEL_8e3716163a1a43c7a53c435d6a5d245a",
       "tooltip": null
      }
     },
     "d334ff0dec11433fb7d25cb0d363464b": {
      "model_module": "@jupyter-widgets/base",
      "model_module_version": "2.0.0",
      "model_name": "LayoutModel",
      "state": {}
     },
     "d50fd800c1914d72937bb29a137aec3b": {
      "model_module": "ipydatagrid",
      "model_module_version": "^1.1.16",
      "model_name": "VegaExprModel",
      "state": {
       "_model_module_version": "^1.1.16",
       "_view_module": "ipydatagrid",
       "_view_module_version": "^1.1.16",
       "_view_name": "VegaExprView"
      }
     },
     "da19a9fbc86d44a387837e937371da9c": {
      "model_module": "@jupyter-widgets/controls",
      "model_module_version": "2.0.0",
      "model_name": "ButtonModel",
      "state": {
       "description": "Undo",
       "layout": "IPY_MODEL_72f9283a73384bf782a9c578466aab81",
       "style": "IPY_MODEL_19096bc9e2aa4fe08949297565761238",
       "tooltip": null
      }
     },
     "db98aa3ea6304ddb971119077977559c": {
      "model_module": "@jupyter-widgets/controls",
      "model_module_version": "2.0.0",
      "model_name": "ButtonStyleModel",
      "state": {
       "font_family": null,
       "font_size": null,
       "font_style": null,
       "font_variant": null,
       "font_weight": null,
       "text_color": null,
       "text_decoration": null
      }
     },
     "dfd64d4c0b4e402f9e1d65be742b6663": {
      "model_module": "@jupyter-widgets/base",
      "model_module_version": "2.0.0",
      "model_name": "LayoutModel",
      "state": {}
     },
     "e39e332ba44542b2bc42435e2c4eb9c6": {
      "model_module": "@jupyter-widgets/output",
      "model_module_version": "1.0.0",
      "model_name": "OutputModel",
      "state": {
       "layout": "IPY_MODEL_beb91325a85a4d80b577a6bc89bab7fe"
      }
     },
     "e6ee792efacb48419cba9c3911c40f5f": {
      "model_module": "@jupyter-widgets/controls",
      "model_module_version": "2.0.0",
      "model_name": "VBoxModel",
      "state": {
       "children": [
        "IPY_MODEL_66bd3f96fa2d46e8ada86a3e3570bbc6",
        "IPY_MODEL_0da3f0afa89a48d7be7ef2b1e1e06d5d",
        "IPY_MODEL_172c4a0c7bd74513ab4651e538f4c7f7"
       ],
       "layout": "IPY_MODEL_2487747c774e46ca9575c0acf71a4a7d"
      }
     },
     "e73610e7632e4f2995dbc946d72e78ca": {
      "model_module": "@jupyter-widgets/controls",
      "model_module_version": "2.0.0",
      "model_name": "ButtonModel",
      "state": {
       "description": "Add Row",
       "layout": "IPY_MODEL_70e205136c2541448855674c36313508",
       "style": "IPY_MODEL_a7adc1c4276147d6a593b31e265d54cf",
       "tooltip": null
      }
     },
     "fa5a1faabf56479db4e446f0f2c65c2c": {
      "model_module": "@jupyter-widgets/base",
      "model_module_version": "2.0.0",
      "model_name": "LayoutModel",
      "state": {
       "height": "730px"
      }
     }
    },
    "version_major": 2,
    "version_minor": 0
   }
  }
 },
 "nbformat": 4,
 "nbformat_minor": 5
}

{
 "cells": [
  {
   "cell_type": "markdown",
   "id": "a038bf36-ca64-472c-b797-374ef246c9d4",
   "metadata": {
    "tags": []
   },
   "source": [
    "# Experiment 04  -  RC and LRC Circuits in the Frequency Domain"
   ]
  },
  {
   "cell_type": "markdown",
   "id": "3c575833-aaaa-42c1-84da-6c6d63232765",
   "metadata": {
    "tags": []
   },
   "source": [
    "Date: October 3, 2025\n",
    "\n",
    "Name: Mufaro Machaya\n",
    "\n",
    "Partner's name: Omar hui"
   ]
  },
  {
   "cell_type": "markdown",
   "id": "6c1a826b-8f18-483a-95b1-ab91cd7ab639",
   "metadata": {},
   "source": [
    "### Introductory Notes"
   ]
  },
  {
   "cell_type": "markdown",
   "id": "957c2a07-b52e-4bb4-909a-bbbd6a7f6376",
   "metadata": {},
   "source": [
    "**Measurement Goal:** The purpose of this experiment is to measure the transient response in both an RC and LRC circuit based on changes to the resonant frequency."
   ]
  },
  {
   "cell_type": "code",
   "execution_count": 1,
   "id": "53c3a4ce-5c45-403a-9a65-edfc33a31a5a",
   "metadata": {},
   "outputs": [],
   "source": [
    "from common import *"
   ]
  },
  {
   "cell_type": "markdown",
   "id": "c435595f-277e-4cb4-a0fc-dfa981a81b99",
   "metadata": {},
   "source": [
    "## Measurements of Inductance, Resistance, and Capacitance"
   ]
  },
  {
   "cell_type": "markdown",
   "id": "14575c3b-cc4e-4643-b178-22a36209d856",
   "metadata": {},
   "source": [
    "> Next week, in experiment 05, you will be making comparisons of your transient data (time domain, lab 02 and 03), with this experiment in the frequency domain. To make the comparisons, you should be working with the same resistors, capacitors and inductors. To be sure, take some time to measure your components and compare to your previous lab notes."
   ]
  },
  {
   "cell_type": "markdown",
   "id": "5d30166b-b6e6-49df-9d34-b12e351775ef",
   "metadata": {},
   "source": [
    "Resistor: $0.990 \\pm ((0.990)\\times \\frac{0.5}{100} + 3 \\times 0.001)$ $k\\Omega$ = $990 \\pm 8$ $\\Omega$"
   ]
  },
  {
   "cell_type": "code",
   "execution_count": 2,
   "id": "f9aa2660-43ab-47a1-b0f9-2d7c65cca68b",
   "metadata": {},
   "outputs": [],
   "source": [
    "resistance = 990\n",
    "resistance_uncert = (0.990 * 0.005 + 3 * 0.001) * 1000"
   ]
  },
  {
   "cell_type": "markdown",
   "id": "7e403a2f-65bd-4ad2-94aa-5e35b0aa13fc",
   "metadata": {},
   "source": [
    "Capacitor: $489.0 \\pm (489.0 \\times \\frac{2}{100} + 5 \\times 0.1)$ $nF$ = $(489 \\pm 10) \\times 10^{-9}$ F"
   ]
  },
  {
   "cell_type": "code",
   "execution_count": 3,
   "id": "ad05f40c-d2d7-442d-b8c0-aa726fb45e4b",
   "metadata": {},
   "outputs": [],
   "source": [
    "capacitance_rc = 489e-9\n",
    "capacitance_rc_uncert = (489 * 2/100 + 5 * 0.1) * 1e-9"
   ]
  },
  {
   "cell_type": "markdown",
   "id": "1f683365-2708-4295-8527-a7d661fb4527",
   "metadata": {},
   "source": [
    "*Note*: Each of the values are still the same as before."
   ]
  },
  {
   "cell_type": "markdown",
   "id": "35a01e15-8988-460d-bced-4b12dc3f50f2",
   "metadata": {},
   "source": [
    "# Measuring the RC circuit"
   ]
  },
  {
   "cell_type": "markdown",
   "id": "c354a058-285d-449a-89e6-8442af69038a",
   "metadata": {
    "tags": []
   },
   "source": [
    "> The rest of this experiment consists of taking data using the spreadsheet code, and then fitting the results. You will do this for an RC circuit and then an LRC circuit. Make sure you set these circuits up exactly the way you did in Lab 02 and Lab 03. Don't forget to take notes here as you go.\n",
    "\n",
    "> For the data entry, we include the data entry code below. *You should already have the data_entry2 package installed (either on the PHYS229 server, or you completed the installation during the prelab), but if you need to re-install it, uncomment lines 5-7 and run.*"
   ]
  },
  {
   "cell_type": "code",
   "execution_count": 4,
   "id": "87e06263-6815-4e99-a2bf-dab1f7fa0acf",
   "metadata": {
    "tags": []
   },
   "outputs": [],
   "source": [
    "import numpy as np\n",
    "import data_entry2\n",
    "import array\n",
    "import pandas as pd\n",
    "import matplotlib.pyplot as plt"
   ]
  },
  {
   "cell_type": "markdown",
   "id": "d86882ff-4646-46ec-8a1d-9565851f79f7",
   "metadata": {},
   "source": [
    "**Measurement Plan:** We're beginning at $50$ Hz and going up by at least $20$ Hz each time, hopefully taking around 8 points in the 50-500 point range and 3-4 in the 500-2000 Hz range for modeling. These points don't need to be evenly spaced to get a good graph, but the goal is to get a good number of points around the region of greatest decrease in amplitude based on frequency. "
   ]
  },
  {
   "cell_type": "markdown",
   "id": "bb632069-777a-41bf-915d-892d11c68a7a",
   "metadata": {},
   "source": [
    "Input Amplitude $V_0 = 4.500 \\pm \\frac{0.001}{2\\sqrt{3}}$ $V_{pp}$"
   ]
  },
  {
   "cell_type": "code",
   "execution_count": 5,
   "id": "aa051ba6-a9c6-4900-a4c4-92bc0d1f7058",
   "metadata": {},
   "outputs": [
    {
     "name": "stdout",
     "output_type": "stream",
     "text": [
      "Sheet name: rc-data-final-copy.csv\n"
     ]
    },
    {
     "data": {
      "application/vnd.jupyter.widget-view+json": {
       "model_id": "b9a514ddd8db4f868384ff2c2b8dcb75",
       "version_major": 2,
       "version_minor": 0
      },
      "text/plain": [
       "VBox(children=(HBox(children=(Button(description='Undo', style=ButtonStyle()), Button(description='Redo', styl…"
      ]
     },
     "metadata": {},
     "output_type": "display_data"
    }
   ],
   "source": [
    "de = data_entry2.sheet(\"rc-data-final-copy.csv\")"
   ]
  },
  {
   "cell_type": "markdown",
   "id": "6f98a21d-a53b-4243-9eff-fbc825344963",
   "metadata": {},
   "source": [
    "**Note, 8/4/25 12:43 PM:** `data_entry2` works fine on my computer, but it will not show the data on my final HTML generation (for some reason). Please just trust that it actually was entered, and I'll add this to actually print the data to this notebook."
   ]
  },
  {
   "cell_type": "code",
   "execution_count": 12,
   "id": "98dc2fc4-6fce-4d29-a21f-bd0a56bf0c3d",
   "metadata": {},
   "outputs": [],
   "source": [
    "import csv\n",
    "\n",
    "def print_csv_file(filepath):\n",
    "    with open(filepath, 'r') as csv_file:\n",
    "        reader  = csv.reader(csv_file)\n",
    "        headers = next(reader)\n",
    "        data    = list(reader)\n",
    "\n",
    "        print(tabulate(data, headers=headers, tablefmt=\"grid\"))"
   ]
  },
  {
   "cell_type": "code",
   "execution_count": 13,
   "id": "4eee26d0-4e6d-43fa-86d8-296465b48751",
   "metadata": {},
   "outputs": [
    {
     "name": "stdout",
     "output_type": "stream",
     "text": [
      "+----------+-------------+-------+-------------+\n",
      "|   f (Hz) |   u[f] (Hz) |    V0 |       u[V0] |\n",
      "+==========+=============+=======+=============+\n",
      "|       50 | 0.000288675 | 4.38  | 0.00288675  |\n",
      "+----------+-------------+-------+-------------+\n",
      "|      100 | 0.000288675 | 4.2   | 0.00288675  |\n",
      "+----------+-------------+-------+-------------+\n",
      "|      150 | 0.000288675 | 3.98  | 0.00288675  |\n",
      "+----------+-------------+-------+-------------+\n",
      "|      200 | 0.000288675 | 3.7   | 0.00288675  |\n",
      "+----------+-------------+-------+-------------+\n",
      "|      250 | 0.000288675 | 3.44  | 0.00288675  |\n",
      "+----------+-------------+-------+-------------+\n",
      "|      300 | 0.000288675 | 3.14  | 0.00288675  |\n",
      "+----------+-------------+-------+-------------+\n",
      "|      350 | 0.000288675 | 2.93  | 0.00288675  |\n",
      "+----------+-------------+-------+-------------+\n",
      "|      400 | 0.000288675 | 2.71  | 0.00288675  |\n",
      "+----------+-------------+-------+-------------+\n",
      "|      450 | 0.003       | 2.53  | 0.00288675  |\n",
      "+----------+-------------+-------+-------------+\n",
      "|      550 | 0.00875     | 2.18  | 0.00288675  |\n",
      "+----------+-------------+-------+-------------+\n",
      "|      650 | 0.5005      | 1.9   | 0.00288675  |\n",
      "+----------+-------------+-------+-------------+\n",
      "|      850 | 5.925       | 1.52  | 0.00288675  |\n",
      "+----------+-------------+-------+-------------+\n",
      "|      950 | 0.05        | 1.38  | 0.00288675  |\n",
      "+----------+-------------+-------+-------------+\n",
      "|     1150 | 2.75        | 1.16  | 0.00288675  |\n",
      "+----------+-------------+-------+-------------+\n",
      "|     1350 | 5.75        | 0.988 | 0.000288675 |\n",
      "+----------+-------------+-------+-------------+\n",
      "|      750 | 0.000288675 | 1.7   | 0.000288675 |\n",
      "+----------+-------------+-------+-------------+\n",
      "|       20 | 0.000288675 | 4.41  | 0.000288675 |\n",
      "+----------+-------------+-------+-------------+\n",
      "|       30 | 0.0005      | 4.41  | 0.000288675 |\n",
      "+----------+-------------+-------+-------------+\n"
     ]
    }
   ],
   "source": [
    "print_csv_file(\"rc-data-final-copy.csv\")"
   ]
  },
  {
   "cell_type": "markdown",
   "id": "5e28a55d-e386-48c6-a739-a36e51f20b03",
   "metadata": {},
   "source": [
    "*Note:* I'm measuring the frequency directly from the wave generator, so the uncertainty is measured as square using the last digit as $0.0000001$ Hz. I'm also measuring the amplitude directly off of the oscilloscope using its internal measurement system, so the uncertainty is measured as square/instrumental based on the last digit.\n",
    "\n",
    "**[3:19]** I actually changed this system at measurement 9. I've switched to using the frequency directly off of the oscilloscope, as they have higher uncertainty (they fluctuate quite a bit). The amplitude measurements are still the same."
   ]
  },
  {
   "cell_type": "markdown",
   "id": "eda2a1fb-a8ff-4edd-9949-c562115de8cc",
   "metadata": {},
   "source": [
    "## Plot As You Take the Data\n",
    "\n",
    "> Don't forget to take notes as you go, and be sure to enter uncertainty estimates and justification as you go along.  It is also good practice to plot your data whale you are taking it. The code below can be run any time you want a fresh look at the data you are entering."
   ]
  },
  {
   "cell_type": "code",
   "execution_count": null,
   "id": "5f89e0e1-f945-4af4-b9b0-8161fd1bb2ab",
   "metadata": {
    "tags": []
   },
   "outputs": [],
   "source": [
    "data_rc = np.loadtxt('data/rc-data.csv', delimiter=',',skiprows=1)\n",
    "\n",
    "rc_circuit_data = Dataset(\n",
    "    x=data_rc[:,0], \n",
    "    dx=data_rc[:,1], \n",
    "    y=data_rc[:,2], \n",
    "    dy=data_rc[:,3]\n",
    ")\n",
    "\n",
    "plt.errorbar(\n",
    "    rc_circuit_data.x,\n",
    "    rc_circuit_data.y,\n",
    "    xerr=rc_circuit_data.dx,\n",
    "    yerr=rc_circuit_data.dy,\n",
    "    marker='.',\n",
    "    linestyle='',\n",
    "    label=\"measured data\")\n",
    "plt.xlabel('Frequency (Hz)')\n",
    "plt.ylabel('Voltage Amplitude (V)')\n",
    "plt.title('Amplitude vs. Frequency, RC Circuit')\n",
    "plt.show()"
   ]
  },
  {
   "cell_type": "markdown",
   "id": "0f10669d-c9a7-4190-abe0-f64befdcdef9",
   "metadata": {},
   "source": [
    "**Observations:** \n",
    "\n",
    "- [3:08 PM, 3 data points in] It seems to be an almost linear drop, which is worrying\n",
    "- [3:12 PM, 6 data points in] It's still maintaining a linear drop curve, which is curious. The theoretical function is $$V_c(f) = V_{in}^0 / \\sqrt{1 + (2 \\pi f RC)^2},$$ which is definitely not linear, but we've made a very small increase in frequency thus far, and we've been told that the rate of decrease should increase eventually, so we'll just keep on going (I guess).\n",
    "- [3:53, finished] The data ended up curving out, so it all worked out."
   ]
  },
  {
   "cell_type": "markdown",
   "id": "a55ce780-6b92-4f83-9200-a1fea209d693",
   "metadata": {},
   "source": [
    "# Measuring the LRC circuit"
   ]
  },
  {
   "cell_type": "markdown",
   "id": "95545fb0-2241-4fd4-832d-8a420bffa12b",
   "metadata": {},
   "source": [
    "Inductance: $458 \\pm \\frac{1}{2\\sqrt{3}}$ $\\mu H$ = $(458 \\pm 0.3) \\times 10^{-6}$ $H$"
   ]
  },
  {
   "cell_type": "code",
   "execution_count": null,
   "id": "df51f164-83bb-4caf-b1cf-d929e6bf4328",
   "metadata": {},
   "outputs": [],
   "source": [
    "inductance = 458e-6\n",
    "inductance_uncert = 1/(2 * np.sqrt(3)) * 1e-6"
   ]
  },
  {
   "cell_type": "markdown",
   "id": "9c752544-4388-43d6-8e44-84cb06f8cb5d",
   "metadata": {},
   "source": [
    "Capacitance: $0.096 \\pm \\frac{0.001}{2\\sqrt{3}}$ $nF$ = $(96 \\pm 0.3) \\times 10^{-12}$ $F$\n",
    "- This is based off of Lab 3, Round 5, and it's roughly the same. Therefore, our resonant frequency should be around $722000$ Hz."
   ]
  },
  {
   "cell_type": "code",
   "execution_count": null,
   "id": "393a2fe5-2ce1-42ec-9b76-017129750b10",
   "metadata": {},
   "outputs": [],
   "source": [
    "capacitance_lrc = 0.096e-9 * 1e12\n",
    "capacitance_uncert_lrc = 0.001/(2*np.sqrt(3)) * 1e-9 * 1e12"
   ]
  },
  {
   "cell_type": "markdown",
   "id": "86291ef1-d02e-451d-aa23-8950393df410",
   "metadata": {},
   "source": [
    "> You can repeat the whole process for the LRC part of the experiment. Just start a new spreadsheet below, with a different name."
   ]
  },
  {
   "cell_type": "code",
   "execution_count": null,
   "id": "ed5c1464-a3a2-4bda-a624-66d517eae8ee",
   "metadata": {
    "tags": []
   },
   "outputs": [],
   "source": [
    "de = data_entry2.sheet(\"lrc-data-final-copy.csv\")"
   ]
  },
  {
   "cell_type": "code",
   "execution_count": null,
   "id": "ae565a15-d538-4d04-b0c1-7160268cd88d",
   "metadata": {},
   "outputs": [],
   "source": [
    "print_csv_file(\"lrc-data-final-copy.csv\")"
   ]
  },
  {
   "cell_type": "markdown",
   "id": "5094f1d7-211e-44ff-a178-0be4d280d866",
   "metadata": {},
   "source": [
    "## Plot LRC data while acquiring"
   ]
  },
  {
   "cell_type": "markdown",
   "id": "e4c83478-da61-449c-9c42-f4ed3ca5894a",
   "metadata": {},
   "source": [
    "> Again, plot the data as you measure, in particular ensuring you have sufficient data in regions that are changing rapidly as a function of your dependent variable."
   ]
  },
  {
   "cell_type": "markdown",
   "id": "17ea6e67-367d-40cf-9c6a-10db4f96bebe",
   "metadata": {},
   "source": [
    "**Note:** For the frequency on this measurement set, we're measuring a full period then inverting it to determine the period, and we're measuring the uncertainty of this measurement as square. "
   ]
  },
  {
   "cell_type": "code",
   "execution_count": null,
   "id": "63a6b09d-17ed-40d3-ab65-b856f0fa86ac",
   "metadata": {
    "tags": []
   },
   "outputs": [],
   "source": [
    "data_lrc = np.loadtxt('data/lrc-data.csv', delimiter=',',skiprows=1)\n",
    "\n",
    "lrc_circuit_data = Dataset(\n",
    "    x=data_lrc[:,0], \n",
    "    dx=data_lrc[:,1], \n",
    "    y=data_lrc[:,2], \n",
    "    dy=data_lrc[:,3]\n",
    ")\n",
    "\n",
    "plt.errorbar(\n",
    "    lrc_circuit_data.x,\n",
    "    lrc_circuit_data.y,\n",
    "    xerr=lrc_circuit_data.dx,\n",
    "    yerr=lrc_circuit_data.dy,\n",
    "    marker='.',\n",
    "    linestyle='',\n",
    "    label=\"measured data\")\n",
    "plt.xlabel('Frequency (Hz)')\n",
    "plt.ylabel('Voltage Amplitude (V)')\n",
    "plt.title('Amplitude vs. Frequency, LRC Circuit')\n",
    "plt.show()"
   ]
  },
  {
   "cell_type": "markdown",
   "id": "bad55541-6004-45ec-943c-9bb7186968b5",
   "metadata": {},
   "source": []
  },
  {
   "cell_type": "markdown",
   "id": "6ce2b631-4ab4-400d-9b3a-74b153821a64",
   "metadata": {},
   "source": [
    "## Fitting Your Data"
   ]
  },
  {
   "cell_type": "markdown",
   "id": "fd64cd17-19aa-44e9-99d8-70c597b6e0a6",
   "metadata": {},
   "source": [
    "> The code cells below for fitting have been updated to include the two functions you worked with in the prelab exercise. Now you will use them to fit your data. Remember that fits of non-linear functions can be sensitive to the inital parameters given, so consider some strategies to make informed guesses."
   ]
  },
  {
   "cell_type": "markdown",
   "id": "7096b8ff-2a7e-48fb-8322-57673cfe4f6e",
   "metadata": {},
   "source": [
    "### Fit RC data"
   ]
  },
  {
   "cell_type": "markdown",
   "id": "03b0ee01-ff9c-4a01-a52f-0c64c867e1fe",
   "metadata": {},
   "source": [
    "> Will fit RC response curve to:\n",
    "$$V_c(f)=\\frac{V_{in}^0}{\\sqrt{1+(2\\pi fRC)^2}}$$\n",
    "Need to define new function where f -> x, and RC -> tau, and $V_{in}^0$ -> V0\n",
    "\n",
    "```python\n",
    "def RCresp_func(x, tau, V0):\n",
    "    return V0/(1+(2*np.pi*tau*x)**2)\n",
    "```"
   ]
  },
  {
   "cell_type": "code",
   "execution_count": null,
   "id": "eb55fb7b-94b5-4bcf-a86b-198069325031",
   "metadata": {},
   "outputs": [],
   "source": [
    "gopts=GraphingOptions(\n",
    "    x_label='Frequency',\n",
    "    y_label='Amplitude',\n",
    "    x_units='Hz',\n",
    "    y_units='V'\n",
    ")"
   ]
  },
  {
   "cell_type": "code",
   "execution_count": null,
   "id": "e8ba3bf9-c806-44ba-9ac9-fa7de1c219a1",
   "metadata": {},
   "outputs": [],
   "source": [
    "model_rc=RCResponseFitParameters(\n",
    "    amplitude=4.5,\n",
    "    time_constant=resistance * capacitance_rc,\n",
    "    offset=0\n",
    ")\n",
    "\n",
    "results_rc = autofit_dataset(rc_circuit_data, gopts, model_rc)\n",
    "results_rc.tabulate()"
   ]
  },
  {
   "cell_type": "markdown",
   "id": "8f621ffa-515c-40ee-be6c-eea6d8a7114e",
   "metadata": {},
   "source": [
    "**Observations:**\n",
    "- This model got $\\chi^2 = 97.248$, so the autofit model may not match the data (but I think this is unlikely, as I will explain later).\n",
    "- It obtained\n",
    "    - $V_0 = 4.4400 \\pm 0.008$ V\n",
    "    - $\\tau = (5.072 \\pm 0.002) \\times 10^{-4}$ $\\Omega$ F\n",
    "    - $V_{offset} = -0.01605 \\pm 0.0008$ V.\n",
    "- Initial parameter guesses were based on direct calculations, like using $\\tau = RC$ and the amplitude as $4.5$ $V_{pp}$ from the Wave Generator"
   ]
  },
  {
   "cell_type": "code",
   "execution_count": null,
   "id": "1d7f37c3-a036-4f14-b199-e360b3d1d32d",
   "metadata": {},
   "outputs": [],
   "source": [
    "display(results_rc.initial_guess_graph)"
   ]
  },
  {
   "cell_type": "markdown",
   "id": "281bdb34-ba0c-46db-b7b4-19c2771fcc6c",
   "metadata": {},
   "source": [
    "**Observations:** The initial parameter guesses was almost perfect! It seems that the data almost perfectly matched the model, just missing an offset."
   ]
  },
  {
   "cell_type": "code",
   "execution_count": null,
   "id": "7279277d-be20-4d72-9103-f67db2195bb3",
   "metadata": {},
   "outputs": [],
   "source": [
    "display(results_rc.initial_guess_residuals_graph)"
   ]
  },
  {
   "cell_type": "code",
   "execution_count": null,
   "id": "60985803-5c34-47fb-a890-73f90dae04aa",
   "metadata": {},
   "outputs": [],
   "source": [
    "display(results_rc.autofit_graph)"
   ]
  },
  {
   "cell_type": "markdown",
   "id": "b0403431-7cbd-4f5c-9693-3df0df7d183c",
   "metadata": {},
   "source": [
    "**Observations:** The data seems to match the model as best as possible from visual inspection."
   ]
  },
  {
   "cell_type": "code",
   "execution_count": null,
   "id": "1b6acc44-66aa-462a-88d7-b5dd9ece4e12",
   "metadata": {},
   "outputs": [],
   "source": [
    "display(results_rc.autofit_residuals_graph)"
   ]
  },
  {
   "cell_type": "markdown",
   "id": "cbe0417d-1438-4071-9189-41bded670ee6",
   "metadata": {},
   "source": [
    "**Observations:** The model describes the data fairly well, as the high $\\chi^2$ can be explained by the spread of the residuals graph, showing that the uncertainties were clearly underestimated. This is probably due to the heavy use of instrumental uncertainty in the amplitude measurements on the oscilloscope, which doesn't account for the noise measurements. For a more accurate measurement, we'd probably want to directly use the bars, but due to the amount of time remaining on this lab, we're just going to continue measuring directly from the oscilloscope. "
   ]
  },
  {
   "cell_type": "markdown",
   "id": "1ad2fcfb-c649-4cea-8ae3-abccc990e13a",
   "metadata": {},
   "source": [
    "### Fit LRC model"
   ]
  },
  {
   "cell_type": "markdown",
   "id": "c72f1824-70fb-4df5-b02e-7355beeaf00b",
   "metadata": {},
   "source": [
    "> For the LRC circuit need to plot the amplitude vs. frequency for the resonantor:\n",
    "$$V_R^0(f)=\\frac{V_{in}^0}{\\sqrt{1+(\\frac{2\\pi}{\\gamma f})^2(f^2-f_0^2)^2}}$$\n",
    "with f -> x, $\\gamma$ -> gamma, $V_{in}^0$ -> Vin, and $f_0$ -> f0\n",
    "\n",
    "> Add function:\n",
    "\n",
    "```python\n",
    "def LRCresp_func(x, f0, Vin, gamma):\n",
    "    return Vin/(np.sqrt(1+(2*np.pi/(gamma*x))**2*(x**2-f0**2)**2))`\n",
    "```"
   ]
  },
  {
   "cell_type": "code",
   "execution_count": null,
   "id": "3f7cb83a-98a4-44c7-b73b-8a6a4143ab14",
   "metadata": {},
   "outputs": [],
   "source": [
    "print(\"%.3e\" % (resistance / (2 * inductance)))"
   ]
  },
  {
   "cell_type": "code",
   "execution_count": null,
   "id": "c665778b-be1f-4aff-8e6b-8807f7597bae",
   "metadata": {},
   "outputs": [],
   "source": [
    "model_lrc=LRCResponseFitParameters(\n",
    "    amplitude = 4.5,\n",
    "    gamma = resistance / (2 * inductance),\n",
    "    resonant_frequency = 722000\n",
    ")\n",
    "\n",
    "results_lrc = autofit_dataset(lrc_circuit_data, gopts, model_lrc)\n",
    "results_lrc.tabulate()"
   ]
  },
  {
   "cell_type": "code",
   "execution_count": null,
   "id": "dda2d94e-b369-4eb0-80c4-db9ad90c6bc0",
   "metadata": {},
   "outputs": [],
   "source": [
    "display(results_lrc.initial_guess_graph)"
   ]
  },
  {
   "cell_type": "code",
   "execution_count": null,
   "id": "97a36a69-5800-402f-9b9c-6a5ceb835adf",
   "metadata": {},
   "outputs": [],
   "source": [
    "display(results_lrc.initial_guess_residuals_graph)"
   ]
  },
  {
   "cell_type": "code",
   "execution_count": null,
   "id": "d0075ec4-c7f2-4b41-9892-b27ea757681d",
   "metadata": {},
   "outputs": [],
   "source": [
    "display(results_lrc.autofit_graph)"
   ]
  },
  {
   "cell_type": "code",
   "execution_count": null,
   "id": "9ba3a520-4d5a-490a-96f2-d13bad090147",
   "metadata": {},
   "outputs": [],
   "source": [
    "display(results_lrc.autofit_residuals_graph)"
   ]
  },
  {
   "cell_type": "markdown",
   "id": "0a6e354b-edd8-450b-b297-323be2b0a492",
   "metadata": {},
   "source": [
    "**Observations:**\n",
    "- [4:35 PM] The graph needs more points towards the top. It's kind of mountain-like. It's skipping the peak though, so we need more points near the peak.\n",
    "- [4:52 PM] The graph seems to miss the peak? Why? It's so strange. It's presently measuring a resonant frequency of about 600,000 Hz, but the graph clearly shows that it's closer to the assumption of 700,000 Hz.\n",
    "- [*Post Lab*, 8/4/25 12:23 PM] This fit produced the results:\n",
    "    - $A=3.68$ V\n",
    "    - $\\gamma = 1.308 \\times 10^{6}$ $\\Omega/H$\n",
    "    - $f_0 = 511900$ Hz.\n",
    "  but this is, obviously, really bad quality. The fit seems to completely be off due to the uncertainties being clearly underestimated, as the initial parameter guess has a much higher $\\chi^2$ but undoubtedly matches the data much better. For the sake of verifying this theory, I'll manually set a higher uncertainty for each of the values then see how the other parameters of the fit change."
   ]
  },
  {
   "cell_type": "markdown",
   "id": "0174d6d3-7324-4e6c-a452-53d5288bd2b4",
   "metadata": {},
   "source": [
    "### Verifying that the uncertainties were underestimated:"
   ]
  },
  {
   "cell_type": "code",
   "execution_count": null,
   "id": "3e9158fd-c0ff-4b99-b4df-ff701169894c",
   "metadata": {},
   "outputs": [],
   "source": [
    "lrc_circuit_data.dy = np.full_like(lrc_circuit_data.y, 0.1)"
   ]
  },
  {
   "cell_type": "code",
   "execution_count": null,
   "id": "bf07e8d2-8fa0-4aa1-82e8-1d2762e21624",
   "metadata": {},
   "outputs": [],
   "source": [
    "model_lrc=LRCResponseFitParameters(\n",
    "    amplitude = 4.5,\n",
    "    gamma = resistance / (2 * inductance),\n",
    "    resonant_frequency = 700000\n",
    ")\n",
    "\n",
    "results_lrc = autofit_dataset(lrc_circuit_data, gopts, model_lrc)\n",
    "results_lrc.tabulate()"
   ]
  },
  {
   "cell_type": "code",
   "execution_count": null,
   "id": "1f7074c9-d7c6-421d-b10a-3541e2125724",
   "metadata": {},
   "outputs": [],
   "source": [
    "display(results_lrc.initial_guess_graph)"
   ]
  },
  {
   "cell_type": "code",
   "execution_count": null,
   "id": "defed11a-0780-46a7-8c28-461e96c7dfc7",
   "metadata": {},
   "outputs": [],
   "source": [
    "display(results_lrc.autofit_graph)"
   ]
  },
  {
   "cell_type": "code",
   "execution_count": null,
   "id": "886fed3f-b199-4e72-b5f6-ea14c03ad8f9",
   "metadata": {},
   "outputs": [],
   "source": [
    "display(results_lrc.autofit_residuals_graph)"
   ]
  },
  {
   "cell_type": "markdown",
   "id": "26fa0b4a-f647-4cb6-aaa7-9f44ae35be4b",
   "metadata": {},
   "source": [
    "**Observations:**\n",
    "- [*Post Lab*, 8/4/25 12:31 PM] This proves the above point: the residuals were underestimated, and that is why the model is so bad. If we set a much higher, but still reasonable uncertainty to the measurement, then the model becomes much, much better at describing the data. The $\\chi^2$ went down from $381108.924$ to $7.816$, the resonant frequency matches much closer with our expectations (our expectation was about $700,000$ Hz, and this graph went up from $511900$ Hz to $689500$ Hz), and the only value that deviated more from our expectation was the time constant, which increased from $1.3 \\times 10^6$ to $1.5 \\times 10^6$ (when the expectation is $1.1 \\times 10^6$)."
   ]
  },
  {
   "cell_type": "markdown",
   "id": "94f8ff7c-37f7-47f3-a3b2-334a793bbb7f",
   "metadata": {},
   "source": [
    "## Don't forget to write some comments about the quality of the fit."
   ]
  },
  {
   "cell_type": "markdown",
   "id": "2e7aaa8d-9ba4-4360-959d-3cc5cff3ce91",
   "metadata": {
    "tags": []
   },
   "source": [
    "> Also remember that you can circle back and add more data (if you're doing the analysis in the lab) if it looks like you need more, or find some problems. You might also need to adjust the model if there's a clear issue that can be addressed simply. Just remember to keep writing notes about what you are doing. This is not a lab report; it is supposed to be a diary of what you are doing all the way through the lab. Feel free to keep adding notebook cells below."
   ]
  },
  {
   "cell_type": "code",
   "execution_count": null,
   "id": "d499e5d3-e6ad-4ce7-a53e-8edff59598d7",
   "metadata": {},
   "outputs": [],
   "source": []
  },
  {
   "cell_type": "code",
   "execution_count": null,
   "id": "89f7c70b-d948-4ee6-a69d-b4b2240a1e2c",
   "metadata": {},
   "outputs": [],
   "source": []
  }
 ],
 "metadata": {
  "kernelspec": {
   "display_name": "Python 3 (ipykernel)",
   "language": "python",
   "name": "python3"
  },
  "language_info": {
   "codemirror_mode": {
    "name": "ipython",
    "version": 3
   },
   "file_extension": ".py",
   "mimetype": "text/x-python",
   "name": "python",
   "nbconvert_exporter": "python",
   "pygments_lexer": "ipython3",
   "version": "3.11.2"
  },
  "widgets": {
   "application/vnd.jupyter.widget-state+json": {
    "state": {
     "00ab9fe9ced24db18ae87dbea5528188": {
      "model_module": "@jupyter-widgets/controls",
      "model_module_version": "2.0.0",
      "model_name": "ButtonStyleModel",
      "state": {
       "font_family": null,
       "font_size": null,
       "font_style": null,
       "font_variant": null,
       "font_weight": null,
       "text_color": null,
       "text_decoration": null
      }
     },
     "01a0101d4648435c8d5b92ea95475b1b": {
      "model_module": "@jupyter-widgets/base",
      "model_module_version": "2.0.0",
      "model_name": "LayoutModel",
      "state": {}
     },
     "029e0d5f1d3a488e89e9c535989d9ef9": {
      "model_module": "@jupyter-widgets/controls",
      "model_module_version": "2.0.0",
      "model_name": "ButtonModel",
      "state": {
       "description": "Add Column",
       "layout": "IPY_MODEL_3df39f2fb21149f887815d23550afaa3",
       "style": "IPY_MODEL_4608103c158b49918ae027a30380f64b",
       "tooltip": null
      }
     },
     "031c3a102c224599bb18293ce02b3bad": {
      "model_module": "@jupyter-widgets/controls",
      "model_module_version": "2.0.0",
      "model_name": "ButtonModel",
      "state": {
       "description": "Redo",
       "layout": "IPY_MODEL_77359b406940459db1726fafe1fa3329",
       "style": "IPY_MODEL_2cb7f84a265443ddbbb76142b0f906b4",
       "tooltip": null
      }
     },
     "06e6ad4cb7404f25a6317ac95d443f4b": {
      "model_module": "@jupyter-widgets/base",
      "model_module_version": "2.0.0",
      "model_name": "LayoutModel",
      "state": {}
     },
     "0a6ee127297a4f60996f5975550ebdd4": {
      "model_module": "@jupyter-widgets/base",
      "model_module_version": "2.0.0",
      "model_name": "LayoutModel",
      "state": {}
     },
     "0da3f0afa89a48d7be7ef2b1e1e06d5d": {
      "model_module": "ipydatagrid",
      "model_module_version": "^1.1.16",
      "model_name": "DataGridModel",
      "state": {
       "_data": {
        "data": [
         {
          "0": "",
          "1": "",
          "2": "",
          "ipydguuid": 0,
          "key": "  Variable:"
         },
         {
          "0": "",
          "1": "",
          "2": "",
          "ipydguuid": 1,
          "key": " Units:"
         },
         {
          "0": "",
          "1": "",
          "2": "",
          "ipydguuid": 2,
          "key": 0
         },
         {
          "0": "",
          "1": "",
          "2": "",
          "ipydguuid": 3,
          "key": 1
         },
         {
          "0": "",
          "1": "",
          "2": "",
          "ipydguuid": 4,
          "key": 2
         },
         {
          "0": "",
          "1": "",
          "2": "",
          "ipydguuid": 5,
          "key": 3
         },
         {
          "0": "",
          "1": "",
          "2": "",
          "ipydguuid": 6,
          "key": 4
         },
         {
          "0": "",
          "1": "",
          "2": "",
          "ipydguuid": 7,
          "key": 5
         },
         {
          "0": "",
          "1": "",
          "2": "",
          "ipydguuid": 8,
          "key": 6
         },
         {
          "0": "",
          "1": "",
          "2": "",
          "ipydguuid": 9,
          "key": 7
         }
        ],
        "fields": [
         {
          "key": null
         },
         {
          "0": null
         },
         {
          "1": null
         },
         {
          "2": null
         },
         {
          "ipydguuid": null
         }
        ],
        "schema": {
         "fields": [
          {
           "name": "key",
           "type": "string"
          },
          {
           "name": 0,
           "type": "string"
          },
          {
           "name": 1,
           "type": "string"
          },
          {
           "name": 2,
           "type": "string"
          },
          {
           "name": "ipydguuid",
           "type": "integer"
          }
         ],
         "pandas_version": "1.4.0",
         "primaryKey": [
          "key",
          "ipydguuid"
         ],
         "primaryKeyUuid": "ipydguuid"
        }
       },
       "_model_module_version": "^1.1.16",
       "_model_name": "DataGridModel",
       "_view_module_version": "^1.1.16",
       "auto_fit_columns": false,
       "auto_fit_params": {
        "area": "all",
        "numCols": null,
        "padding": 30
       },
       "base_column_header_size": 20,
       "base_column_size": 64,
       "base_row_header_size": 64,
       "base_row_size": 20,
       "default_renderer": "IPY_MODEL_7de895ce5baa4de1ac176b03b4b10ae3",
       "editable": true,
       "header_visibility": "all",
       "layout": "IPY_MODEL_21f93dd62ce04521a253abdaa56d44bb",
       "selection_mode": "cell"
      }
     },
     "12b544e3380442f0aa164174f1cad3de": {
      "model_module": "@jupyter-widgets/controls",
      "model_module_version": "2.0.0",
      "model_name": "ButtonModel",
      "state": {
       "description": "Generate Vectors",
       "layout": "IPY_MODEL_58f3e5f6aed44ea5964db7c71a888835",
       "style": "IPY_MODEL_a847c63a3c9a45989c9b2beb31d5fc60",
       "tooltip": null
      }
     },
     "12e447b12a4542368e1bf460b74a5a74": {
      "model_module": "@jupyter-widgets/controls",
      "model_module_version": "2.0.0",
      "model_name": "ButtonModel",
      "state": {
       "description": "Undo",
       "layout": "IPY_MODEL_d334ff0dec11433fb7d25cb0d363464b",
       "style": "IPY_MODEL_7db67aba1f114bf79ef9c9cead2b4dce",
       "tooltip": null
      }
     },
     "172c4a0c7bd74513ab4651e538f4c7f7": {
      "model_module": "@jupyter-widgets/output",
      "model_module_version": "1.0.0",
      "model_name": "OutputModel",
      "state": {
       "layout": "IPY_MODEL_618606e4200f476997558b6c2a2cc902"
      }
     },
     "19096bc9e2aa4fe08949297565761238": {
      "model_module": "@jupyter-widgets/controls",
      "model_module_version": "2.0.0",
      "model_name": "ButtonStyleModel",
      "state": {
       "font_family": null,
       "font_size": null,
       "font_style": null,
       "font_variant": null,
       "font_weight": null,
       "text_color": null,
       "text_decoration": null
      }
     },
     "1a06fce92cd84997a31c65fee5825f35": {
      "model_module": "@jupyter-widgets/base",
      "model_module_version": "2.0.0",
      "model_name": "LayoutModel",
      "state": {}
     },
     "1c59d7ae3b6d4837940e319a3eed01ad": {
      "model_module": "@jupyter-widgets/controls",
      "model_module_version": "2.0.0",
      "model_name": "ButtonModel",
      "state": {
       "description": "Redo",
       "layout": "IPY_MODEL_7bd9a62a1a614a318e9a50461cd19828",
       "style": "IPY_MODEL_00ab9fe9ced24db18ae87dbea5528188",
       "tooltip": null
      }
     },
     "205c95be2b4c43bfa6462b359b8c9cff": {
      "model_module": "@jupyter-widgets/base",
      "model_module_version": "2.0.0",
      "model_name": "LayoutModel",
      "state": {}
     },
     "21f93dd62ce04521a253abdaa56d44bb": {
      "model_module": "@jupyter-widgets/base",
      "model_module_version": "2.0.0",
      "model_name": "LayoutModel",
      "state": {
       "height": "250px"
      }
     },
     "2487747c774e46ca9575c0acf71a4a7d": {
      "model_module": "@jupyter-widgets/base",
      "model_module_version": "2.0.0",
      "model_name": "LayoutModel",
      "state": {}
     },
     "25a67ad9a32f4fc0a0ea48a38b5f349e": {
      "model_module": "ipydatagrid",
      "model_module_version": "^1.1.16",
      "model_name": "VegaExprModel",
      "state": {
       "_model_module_version": "^1.1.16",
       "_view_module": "ipydatagrid",
       "_view_module_version": "^1.1.16",
       "_view_name": "VegaExprView"
      }
     },
     "264b923a430948b6b196e9f0b09dfdcd": {
      "model_module": "@jupyter-widgets/base",
      "model_module_version": "2.0.0",
      "model_name": "LayoutModel",
      "state": {}
     },
     "26a7df9d151a44588ef491ae08ca4cbf": {
      "model_module": "@jupyter-widgets/base",
      "model_module_version": "2.0.0",
      "model_name": "LayoutModel",
      "state": {}
     },
     "2954455c042347f28df0b80f73a35a8e": {
      "model_module": "@jupyter-widgets/base",
      "model_module_version": "2.0.0",
      "model_name": "LayoutModel",
      "state": {}
     },
     "2b87a8cbe88e4129a598c0b19813f2f3": {
      "model_module": "@jupyter-widgets/controls",
      "model_module_version": "2.0.0",
      "model_name": "ButtonModel",
      "state": {
       "description": "Generate Vectors",
       "layout": "IPY_MODEL_1a06fce92cd84997a31c65fee5825f35",
       "style": "IPY_MODEL_db98aa3ea6304ddb971119077977559c",
       "tooltip": null
      }
     },
     "2cb7f84a265443ddbbb76142b0f906b4": {
      "model_module": "@jupyter-widgets/controls",
      "model_module_version": "2.0.0",
      "model_name": "ButtonStyleModel",
      "state": {
       "font_family": null,
       "font_size": null,
       "font_style": null,
       "font_variant": null,
       "font_weight": null,
       "text_color": null,
       "text_decoration": null
      }
     },
     "309144b1532345f9bcd993a04b6b3170": {
      "model_module": "@jupyter-widgets/base",
      "model_module_version": "2.0.0",
      "model_name": "LayoutModel",
      "state": {
       "height": "490px"
      }
     },
     "39199c59f72c4c5c858835dcde019278": {
      "model_module": "ipydatagrid",
      "model_module_version": "^1.1.16",
      "model_name": "VegaExprModel",
      "state": {
       "_model_module_version": "^1.1.16",
       "_view_module": "ipydatagrid",
       "_view_module_version": "^1.1.16",
       "_view_name": "VegaExprView"
      }
     },
     "3df39f2fb21149f887815d23550afaa3": {
      "model_module": "@jupyter-widgets/base",
      "model_module_version": "2.0.0",
      "model_name": "LayoutModel",
      "state": {}
     },
     "410f9bdceac746cab400b6b2e07ea2b5": {
      "model_module": "@jupyter-widgets/controls",
      "model_module_version": "2.0.0",
      "model_name": "ButtonStyleModel",
      "state": {
       "font_family": null,
       "font_size": null,
       "font_style": null,
       "font_variant": null,
       "font_weight": null,
       "text_color": null,
       "text_decoration": null
      }
     },
     "44e08e7401274bdc8f00535b7068415b": {
      "model_module": "@jupyter-widgets/controls",
      "model_module_version": "2.0.0",
      "model_name": "ButtonModel",
      "state": {
       "description": "Add Column",
       "layout": "IPY_MODEL_9338c17260fb43c69d29d079794f2b2c",
       "style": "IPY_MODEL_410f9bdceac746cab400b6b2e07ea2b5",
       "tooltip": null
      }
     },
     "4608103c158b49918ae027a30380f64b": {
      "model_module": "@jupyter-widgets/controls",
      "model_module_version": "2.0.0",
      "model_name": "ButtonStyleModel",
      "state": {
       "font_family": null,
       "font_size": null,
       "font_style": null,
       "font_variant": null,
       "font_weight": null,
       "text_color": null,
       "text_decoration": null
      }
     },
     "4ede4d834770419885178d3fe8972eb0": {
      "model_module": "@jupyter-widgets/controls",
      "model_module_version": "2.0.0",
      "model_name": "ButtonModel",
      "state": {
       "description": "Add Row",
       "layout": "IPY_MODEL_904ab78bab354400b569fe9f69a2f3bb",
       "style": "IPY_MODEL_68fef00145d241baaf670974a98ef8e9",
       "tooltip": null
      }
     },
     "58f3e5f6aed44ea5964db7c71a888835": {
      "model_module": "@jupyter-widgets/base",
      "model_module_version": "2.0.0",
      "model_name": "LayoutModel",
      "state": {}
     },
     "5a51d7dd5d094a7598e9c686d4f281e7": {
      "model_module": "@jupyter-widgets/controls",
      "model_module_version": "2.0.0",
      "model_name": "ButtonModel",
      "state": {
       "description": "Undo",
       "layout": "IPY_MODEL_01a0101d4648435c8d5b92ea95475b1b",
       "style": "IPY_MODEL_60e3dd4d6ef0457da7d5292f1bdfbb42",
       "tooltip": null
      }
     },
     "5a526f1531704ef784f4650075986cdb": {
      "model_module": "@jupyter-widgets/controls",
      "model_module_version": "2.0.0",
      "model_name": "ButtonModel",
      "state": {
       "description": "Generate Vectors",
       "layout": "IPY_MODEL_7ec4360b28564fb59e9dacfd722dad11",
       "style": "IPY_MODEL_b6dc3be096d4479ca1756a0ef2e3cf24",
       "tooltip": null
      }
     },
     "5dc7182c22d040e7a3e7b079070332df": {
      "model_module": "@jupyter-widgets/controls",
      "model_module_version": "2.0.0",
      "model_name": "VBoxModel",
      "state": {
       "children": [
        "IPY_MODEL_779d3560adfe4fb58beb6092fe438e55",
        "IPY_MODEL_6e3a94aabd6d49fdbeaccaf31285d9ae",
        "IPY_MODEL_9714df45eee2409fb6a007d7180e7503"
       ],
       "layout": "IPY_MODEL_8da6ac82d7ca4c2f933dfa485747b496"
      }
     },
     "60e3dd4d6ef0457da7d5292f1bdfbb42": {
      "model_module": "@jupyter-widgets/controls",
      "model_module_version": "2.0.0",
      "model_name": "ButtonStyleModel",
      "state": {
       "font_family": null,
       "font_size": null,
       "font_style": null,
       "font_variant": null,
       "font_weight": null,
       "text_color": null,
       "text_decoration": null
      }
     },
     "618606e4200f476997558b6c2a2cc902": {
      "model_module": "@jupyter-widgets/base",
      "model_module_version": "2.0.0",
      "model_name": "LayoutModel",
      "state": {}
     },
     "62893c21f51b482489b3f8a0a6b5b0aa": {
      "model_module": "@jupyter-widgets/base",
      "model_module_version": "2.0.0",
      "model_name": "LayoutModel",
      "state": {}
     },
     "66bd3f96fa2d46e8ada86a3e3570bbc6": {
      "model_module": "@jupyter-widgets/controls",
      "model_module_version": "2.0.0",
      "model_name": "HBoxModel",
      "state": {
       "children": [
        "IPY_MODEL_12e447b12a4542368e1bf460b74a5a74",
        "IPY_MODEL_cb1fea5b9e044cbfa5f6ccabe3a38bf4",
        "IPY_MODEL_4ede4d834770419885178d3fe8972eb0",
        "IPY_MODEL_a1aeba7b4c264911bb5cb7586289fbdb",
        "IPY_MODEL_5a526f1531704ef784f4650075986cdb"
       ],
       "layout": "IPY_MODEL_6ba13056f0a14ebfacb811af3ef5fb4a"
      }
     },
     "68fef00145d241baaf670974a98ef8e9": {
      "model_module": "@jupyter-widgets/controls",
      "model_module_version": "2.0.0",
      "model_name": "ButtonStyleModel",
      "state": {
       "font_family": null,
       "font_size": null,
       "font_style": null,
       "font_variant": null,
       "font_weight": null,
       "text_color": null,
       "text_decoration": null
      }
     },
     "69b24373b781449c98275143cb9854b3": {
      "model_module": "ipydatagrid",
      "model_module_version": "^1.1.16",
      "model_name": "VegaExprModel",
      "state": {
       "_model_module_version": "^1.1.16",
       "_view_module": "ipydatagrid",
       "_view_module_version": "^1.1.16",
       "_view_name": "VegaExprView"
      }
     },
     "6ba13056f0a14ebfacb811af3ef5fb4a": {
      "model_module": "@jupyter-widgets/base",
      "model_module_version": "2.0.0",
      "model_name": "LayoutModel",
      "state": {}
     },
     "6e3a94aabd6d49fdbeaccaf31285d9ae": {
      "model_module": "ipydatagrid",
      "model_module_version": "^1.1.16",
      "model_name": "DataGridModel",
      "state": {
       "_data": {
        "data": [
         {
          "0": "f",
          "1": "df",
          "2": "Vc",
          "3": "dVc",
          "ipydguuid": 0,
          "key": "  Variable:"
         },
         {
          "0": "Hz",
          "1": "Hz",
          "2": "mV",
          "3": "mV",
          "ipydguuid": 1,
          "key": " Units:"
         },
         {
          "0": "50",
          "1": "0.01",
          "2": "870",
          "3": "4",
          "ipydguuid": 2,
          "key": 0
         },
         {
          "0": "100",
          "1": "0.01",
          "2": "836",
          "3": "4",
          "ipydguuid": 3,
          "key": 1
         },
         {
          "0": "200",
          "1": "0.05",
          "2": "734",
          "3": "4",
          "ipydguuid": 4,
          "key": 2
         },
         {
          "0": "300",
          "1": "0.05",
          "2": "626",
          "3": "4",
          "ipydguuid": 5,
          "key": 3
         },
         {
          "0": "400",
          "1": "0.05",
          "2": "526",
          "3": "4",
          "ipydguuid": 6,
          "key": 4
         },
         {
          "0": "500",
          "1": "0.05",
          "2": "449",
          "3": "2",
          "ipydguuid": 7,
          "key": 5
         },
         {
          "0": "600",
          "1": "0.05",
          "2": "390",
          "3": "2",
          "ipydguuid": 8,
          "key": 6
         },
         {
          "0": "700",
          "1": "0.05",
          "2": "343",
          "3": "3",
          "ipydguuid": 9,
          "key": 7
         },
         {
          "0": "800",
          "1": "0.3",
          "2": "307",
          "3": "2",
          "ipydguuid": 10,
          "key": 8
         },
         {
          "0": "900",
          "1": "0.3",
          "2": "278",
          "3": "2",
          "ipydguuid": 11,
          "key": 9
         },
         {
          "0": "1000",
          "1": "0.1",
          "2": "251",
          "3": "2",
          "ipydguuid": 12,
          "key": 10
         },
         {
          "0": "1100",
          "1": "0.1",
          "2": "230",
          "3": "2",
          "ipydguuid": 13,
          "key": 11
         },
         {
          "0": "1200",
          "1": "0.5",
          "2": "212",
          "3": "2",
          "ipydguuid": 14,
          "key": 12
         },
         {
          "0": "1400",
          "1": "0.5",
          "2": "184",
          "3": "1",
          "ipydguuid": 15,
          "key": 13
         },
         {
          "0": "1600",
          "1": "0.5",
          "2": "162",
          "3": "1",
          "ipydguuid": 16,
          "key": 14
         },
         {
          "0": "1800",
          "1": "0.5",
          "2": "144",
          "3": "1",
          "ipydguuid": 17,
          "key": 15
         },
         {
          "0": "2000",
          "1": "0.5",
          "2": "131",
          "3": "1",
          "ipydguuid": 18,
          "key": 16
         },
         {
          "0": "2400",
          "1": "0.5",
          "2": "109",
          "3": "1",
          "ipydguuid": 19,
          "key": 17
         },
         {
          "0": "2800",
          "1": "0.5",
          "2": "93.6",
          "3": "0.8",
          "ipydguuid": 20,
          "key": 18
         },
         {
          "0": "4000",
          "1": "1",
          "2": "66",
          "3": "0.8",
          "ipydguuid": 21,
          "key": 19
         }
        ],
        "fields": [
         {
          "key": null
         },
         {
          "0": null
         },
         {
          "1": null
         },
         {
          "2": null
         },
         {
          "3": null
         },
         {
          "ipydguuid": null
         }
        ],
        "schema": {
         "fields": [
          {
           "name": "key",
           "type": "string"
          },
          {
           "name": 0,
           "type": "string"
          },
          {
           "name": 1,
           "type": "string"
          },
          {
           "name": 2,
           "type": "string"
          },
          {
           "name": 3,
           "type": "string"
          },
          {
           "name": "ipydguuid",
           "type": "integer"
          }
         ],
         "pandas_version": "1.4.0",
         "primaryKey": [
          "key",
          "ipydguuid"
         ],
         "primaryKeyUuid": "ipydguuid"
        }
       },
       "_model_module_version": "^1.1.16",
       "_model_name": "DataGridModel",
       "_view_module_version": "^1.1.16",
       "auto_fit_columns": false,
       "auto_fit_params": {
        "area": "all",
        "numCols": null,
        "padding": 30
       },
       "base_column_header_size": 20,
       "base_column_size": 64,
       "base_row_header_size": 64,
       "base_row_size": 20,
       "default_renderer": "IPY_MODEL_82323da761dd463b94311a9a9596b582",
       "editable": true,
       "header_visibility": "all",
       "layout": "IPY_MODEL_309144b1532345f9bcd993a04b6b3170",
       "selection_mode": "cell"
      }
     },
     "6e5089ba371d475cac3cbf35f59b49eb": {
      "model_module": "@jupyter-widgets/controls",
      "model_module_version": "2.0.0",
      "model_name": "ButtonModel",
      "state": {
       "description": "Add Row",
       "layout": "IPY_MODEL_0a6ee127297a4f60996f5975550ebdd4",
       "style": "IPY_MODEL_c95b943b3d6a426ea1b9e69955ca6b97",
       "tooltip": null
      }
     },
     "70e205136c2541448855674c36313508": {
      "model_module": "@jupyter-widgets/base",
      "model_module_version": "2.0.0",
      "model_name": "LayoutModel",
      "state": {}
     },
     "72f9283a73384bf782a9c578466aab81": {
      "model_module": "@jupyter-widgets/base",
      "model_module_version": "2.0.0",
      "model_name": "LayoutModel",
      "state": {}
     },
     "73581b75a5a241988634f45e63fa6953": {
      "model_module": "ipydatagrid",
      "model_module_version": "^1.1.16",
      "model_name": "DataGridModel",
      "state": {
       "_data": {
        "data": [
         {
          "0": "f",
          "1": "df",
          "2": "Vr",
          "3": "dVr",
          "ipydguuid": 0,
          "key": "  Variable:"
         },
         {
          "0": "kHz",
          "1": "kHz",
          "2": "mV",
          "3": "mV",
          "ipydguuid": 1,
          "key": " Units:"
         },
         {
          "0": "10",
          "1": "0.005",
          "2": "17.4",
          "3": "0.6",
          "ipydguuid": 2,
          "key": 0
         },
         {
          "0": "40",
          "1": "0.01",
          "2": "90",
          "3": "0.6",
          "ipydguuid": 3,
          "key": 1
         },
         {
          "0": "50",
          "1": "0.01",
          "2": "136",
          "3": "4",
          "ipydguuid": 4,
          "key": 2
         },
         {
          "0": "60",
          "1": "0.01",
          "2": "216",
          "3": "2",
          "ipydguuid": 5,
          "key": 3
         },
         {
          "0": "70",
          "1": "0.01",
          "2": "414",
          "3": "2",
          "ipydguuid": 6,
          "key": 4
         },
         {
          "0": "75",
          "1": "0.01",
          "2": "668",
          "3": "8",
          "ipydguuid": 7,
          "key": 5
         },
         {
          "0": "76",
          "1": "0.01",
          "2": "740",
          "3": "8",
          "ipydguuid": 8,
          "key": 6
         },
         {
          "0": "77",
          "1": "0.01",
          "2": "840",
          "3": "8",
          "ipydguuid": 9,
          "key": 7
         },
         {
          "0": "78",
          "1": "0.01",
          "2": "944",
          "3": "8",
          "ipydguuid": 10,
          "key": 8
         },
         {
          "0": "79",
          "1": "0.01",
          "2": "1060",
          "3": "8",
          "ipydguuid": 11,
          "key": 9
         },
         {
          "0": "80",
          "1": "0.01",
          "2": "1160",
          "3": "8",
          "ipydguuid": 12,
          "key": 10
         },
         {
          "0": "81",
          "1": "0.01",
          "2": "1230",
          "3": "8",
          "ipydguuid": 13,
          "key": 11
         },
         {
          "0": "82",
          "1": "0.01",
          "2": "1240",
          "3": "8",
          "ipydguuid": 14,
          "key": 12
         },
         {
          "0": "83",
          "1": "0.01",
          "2": "1200",
          "3": "8",
          "ipydguuid": 15,
          "key": 13
         },
         {
          "0": "84",
          "1": "0.01",
          "2": "1120",
          "3": "8",
          "ipydguuid": 16,
          "key": 14
         },
         {
          "0": "85",
          "1": "0.01",
          "2": "1020",
          "3": "8",
          "ipydguuid": 17,
          "key": 15
         },
         {
          "0": "86",
          "1": "0.01",
          "2": "920",
          "3": "8",
          "ipydguuid": 18,
          "key": 16
         },
         {
          "0": "87",
          "1": "0.01",
          "2": "832",
          "3": "8",
          "ipydguuid": 19,
          "key": 17
         },
         {
          "0": "88",
          "1": "0.01",
          "2": "756",
          "3": "8",
          "ipydguuid": 20,
          "key": 18
         },
         {
          "0": "89",
          "1": "0.01",
          "2": "688",
          "3": "8",
          "ipydguuid": 21,
          "key": 19
         },
         {
          "0": "90",
          "1": "0.01",
          "2": "624",
          "3": "8",
          "ipydguuid": 22,
          "key": 20
         },
         {
          "0": "92",
          "1": "0.01",
          "2": "532",
          "3": "4",
          "ipydguuid": 23,
          "key": 21
         },
         {
          "0": "94",
          "1": "0.01",
          "2": "460",
          "3": "4",
          "ipydguuid": 24,
          "key": 22
         },
         {
          "0": "96",
          "1": "0.01",
          "2": "406",
          "3": "4",
          "ipydguuid": 25,
          "key": 23
         },
         {
          "0": "100",
          "1": "0.01",
          "2": "326",
          "3": "4",
          "ipydguuid": 26,
          "key": 24
         },
         {
          "0": "110",
          "1": "0.05",
          "2": "221",
          "3": "2",
          "ipydguuid": 27,
          "key": 25
         },
         {
          "0": "120",
          "1": "0.05",
          "2": "167",
          "3": "2",
          "ipydguuid": 28,
          "key": 26
         },
         {
          "0": "130",
          "1": "0.05",
          "2": "134",
          "3": "2",
          "ipydguuid": 29,
          "key": 27
         },
         {
          "0": "150",
          "1": "0.05",
          "2": "96.4",
          "3": "0.2",
          "ipydguuid": 30,
          "key": 28
         },
         {
          "0": "200",
          "1": "0.05",
          "2": "54",
          "3": "0.6",
          "ipydguuid": 31,
          "key": 29
         },
         {
          "0": "250",
          "1": "0.05",
          "2": "33.6",
          "3": "0.6",
          "ipydguuid": 32,
          "key": 30
         },
         {
          "0": "300",
          "1": "0.05",
          "2": "21",
          "3": "0.6",
          "ipydguuid": 33,
          "key": 31
         }
        ],
        "fields": [
         {
          "key": null
         },
         {
          "0": null
         },
         {
          "1": null
         },
         {
          "2": null
         },
         {
          "3": null
         },
         {
          "ipydguuid": null
         }
        ],
        "schema": {
         "fields": [
          {
           "name": "key",
           "type": "string"
          },
          {
           "name": 0,
           "type": "string"
          },
          {
           "name": 1,
           "type": "string"
          },
          {
           "name": 2,
           "type": "string"
          },
          {
           "name": 3,
           "type": "string"
          },
          {
           "name": "ipydguuid",
           "type": "integer"
          }
         ],
         "pandas_version": "1.4.0",
         "primaryKey": [
          "key",
          "ipydguuid"
         ],
         "primaryKeyUuid": "ipydguuid"
        }
       },
       "_model_module_version": "^1.1.16",
       "_model_name": "DataGridModel",
       "_view_module_version": "^1.1.16",
       "auto_fit_columns": false,
       "auto_fit_params": {
        "area": "all",
        "numCols": null,
        "padding": 30
       },
       "base_column_header_size": 20,
       "base_column_size": 64,
       "base_row_header_size": 64,
       "base_row_size": 20,
       "default_renderer": "IPY_MODEL_798470d2c55946c3b961d239886ec6a0",
       "editable": true,
       "header_visibility": "all",
       "layout": "IPY_MODEL_fa5a1faabf56479db4e446f0f2c65c2c",
       "selection_mode": "cell"
      }
     },
     "759eb171482042bca395ba6f2e057f5b": {
      "model_module": "@jupyter-widgets/controls",
      "model_module_version": "2.0.0",
      "model_name": "ButtonStyleModel",
      "state": {
       "font_family": null,
       "font_size": null,
       "font_style": null,
       "font_variant": null,
       "font_weight": null,
       "text_color": null,
       "text_decoration": null
      }
     },
     "77359b406940459db1726fafe1fa3329": {
      "model_module": "@jupyter-widgets/base",
      "model_module_version": "2.0.0",
      "model_name": "LayoutModel",
      "state": {}
     },
     "779d3560adfe4fb58beb6092fe438e55": {
      "model_module": "@jupyter-widgets/controls",
      "model_module_version": "2.0.0",
      "model_name": "HBoxModel",
      "state": {
       "children": [
        "IPY_MODEL_5a51d7dd5d094a7598e9c686d4f281e7",
        "IPY_MODEL_1c59d7ae3b6d4837940e319a3eed01ad",
        "IPY_MODEL_e73610e7632e4f2995dbc946d72e78ca",
        "IPY_MODEL_44e08e7401274bdc8f00535b7068415b",
        "IPY_MODEL_2b87a8cbe88e4129a598c0b19813f2f3"
       ],
       "layout": "IPY_MODEL_c3f216ab31304d85b52a7c82bf5a223f"
      }
     },
     "798470d2c55946c3b961d239886ec6a0": {
      "model_module": "ipydatagrid",
      "model_module_version": "^1.1.16",
      "model_name": "TextRendererModel",
      "state": {
       "_model_module_version": "^1.1.16",
       "_view_module_version": "^1.1.16",
       "background_color": "IPY_MODEL_69b24373b781449c98275143cb9854b3",
       "text_color": "IPY_MODEL_39199c59f72c4c5c858835dcde019278"
      }
     },
     "7bd9a62a1a614a318e9a50461cd19828": {
      "model_module": "@jupyter-widgets/base",
      "model_module_version": "2.0.0",
      "model_name": "LayoutModel",
      "state": {}
     },
     "7db67aba1f114bf79ef9c9cead2b4dce": {
      "model_module": "@jupyter-widgets/controls",
      "model_module_version": "2.0.0",
      "model_name": "ButtonStyleModel",
      "state": {
       "font_family": null,
       "font_size": null,
       "font_style": null,
       "font_variant": null,
       "font_weight": null,
       "text_color": null,
       "text_decoration": null
      }
     },
     "7de895ce5baa4de1ac176b03b4b10ae3": {
      "model_module": "ipydatagrid",
      "model_module_version": "^1.1.16",
      "model_name": "TextRendererModel",
      "state": {
       "_model_module_version": "^1.1.16",
       "_view_module_version": "^1.1.16",
       "background_color": "IPY_MODEL_ab06ab58b2494fb187b317025bf19ec5",
       "text_color": "IPY_MODEL_d50fd800c1914d72937bb29a137aec3b"
      }
     },
     "7e01e0bc5a5c43dc9fc16138de78c3d4": {
      "model_module": "@jupyter-widgets/controls",
      "model_module_version": "2.0.0",
      "model_name": "HBoxModel",
      "state": {
       "children": [
        "IPY_MODEL_da19a9fbc86d44a387837e937371da9c",
        "IPY_MODEL_031c3a102c224599bb18293ce02b3bad",
        "IPY_MODEL_6e5089ba371d475cac3cbf35f59b49eb",
        "IPY_MODEL_029e0d5f1d3a488e89e9c535989d9ef9",
        "IPY_MODEL_12b544e3380442f0aa164174f1cad3de"
       ],
       "layout": "IPY_MODEL_264b923a430948b6b196e9f0b09dfdcd"
      }
     },
     "7ec4360b28564fb59e9dacfd722dad11": {
      "model_module": "@jupyter-widgets/base",
      "model_module_version": "2.0.0",
      "model_name": "LayoutModel",
      "state": {}
     },
     "82323da761dd463b94311a9a9596b582": {
      "model_module": "ipydatagrid",
      "model_module_version": "^1.1.16",
      "model_name": "TextRendererModel",
      "state": {
       "_model_module_version": "^1.1.16",
       "_view_module_version": "^1.1.16",
       "background_color": "IPY_MODEL_c7f3cb20c0ed4b80994135c606a6b637",
       "text_color": "IPY_MODEL_25a67ad9a32f4fc0a0ea48a38b5f349e"
      }
     },
     "8da6ac82d7ca4c2f933dfa485747b496": {
      "model_module": "@jupyter-widgets/base",
      "model_module_version": "2.0.0",
      "model_name": "LayoutModel",
      "state": {}
     },
     "8e3716163a1a43c7a53c435d6a5d245a": {
      "model_module": "@jupyter-widgets/controls",
      "model_module_version": "2.0.0",
      "model_name": "ButtonStyleModel",
      "state": {
       "font_family": null,
       "font_size": null,
       "font_style": null,
       "font_variant": null,
       "font_weight": null,
       "text_color": null,
       "text_decoration": null
      }
     },
     "904ab78bab354400b569fe9f69a2f3bb": {
      "model_module": "@jupyter-widgets/base",
      "model_module_version": "2.0.0",
      "model_name": "LayoutModel",
      "state": {}
     },
     "9338c17260fb43c69d29d079794f2b2c": {
      "model_module": "@jupyter-widgets/base",
      "model_module_version": "2.0.0",
      "model_name": "LayoutModel",
      "state": {}
     },
     "95214df8bd694f2290441c391c8a72c0": {
      "model_module": "@jupyter-widgets/controls",
      "model_module_version": "2.0.0",
      "model_name": "VBoxModel",
      "state": {
       "children": [
        "IPY_MODEL_7e01e0bc5a5c43dc9fc16138de78c3d4",
        "IPY_MODEL_73581b75a5a241988634f45e63fa6953",
        "IPY_MODEL_e39e332ba44542b2bc42435e2c4eb9c6"
       ],
       "layout": "IPY_MODEL_26a7df9d151a44588ef491ae08ca4cbf"
      }
     },
     "9714df45eee2409fb6a007d7180e7503": {
      "model_module": "@jupyter-widgets/output",
      "model_module_version": "1.0.0",
      "model_name": "OutputModel",
      "state": {
       "layout": "IPY_MODEL_2954455c042347f28df0b80f73a35a8e"
      }
     },
     "9becc3eaadb94dbd84b2d39f9bce1837": {
      "model_module": "@jupyter-widgets/base",
      "model_module_version": "2.0.0",
      "model_name": "LayoutModel",
      "state": {}
     },
     "a1aeba7b4c264911bb5cb7586289fbdb": {
      "model_module": "@jupyter-widgets/controls",
      "model_module_version": "2.0.0",
      "model_name": "ButtonModel",
      "state": {
       "description": "Add Column",
       "layout": "IPY_MODEL_62893c21f51b482489b3f8a0a6b5b0aa",
       "style": "IPY_MODEL_759eb171482042bca395ba6f2e057f5b",
       "tooltip": null
      }
     },
     "a7adc1c4276147d6a593b31e265d54cf": {
      "model_module": "@jupyter-widgets/controls",
      "model_module_version": "2.0.0",
      "model_name": "ButtonStyleModel",
      "state": {
       "font_family": null,
       "font_size": null,
       "font_style": null,
       "font_variant": null,
       "font_weight": null,
       "text_color": null,
       "text_decoration": null
      }
     },
     "a847c63a3c9a45989c9b2beb31d5fc60": {
      "model_module": "@jupyter-widgets/controls",
      "model_module_version": "2.0.0",
      "model_name": "ButtonStyleModel",
      "state": {
       "font_family": null,
       "font_size": null,
       "font_style": null,
       "font_variant": null,
       "font_weight": null,
       "text_color": null,
       "text_decoration": null
      }
     },
     "ab06ab58b2494fb187b317025bf19ec5": {
      "model_module": "ipydatagrid",
      "model_module_version": "^1.1.16",
      "model_name": "VegaExprModel",
      "state": {
       "_model_module_version": "^1.1.16",
       "_view_module": "ipydatagrid",
       "_view_module_version": "^1.1.16",
       "_view_name": "VegaExprView"
      }
     },
     "b6dc3be096d4479ca1756a0ef2e3cf24": {
      "model_module": "@jupyter-widgets/controls",
      "model_module_version": "2.0.0",
      "model_name": "ButtonStyleModel",
      "state": {
       "font_family": null,
       "font_size": null,
       "font_style": null,
       "font_variant": null,
       "font_weight": null,
       "text_color": null,
       "text_decoration": null
      }
     },
     "beb91325a85a4d80b577a6bc89bab7fe": {
      "model_module": "@jupyter-widgets/base",
      "model_module_version": "2.0.0",
      "model_name": "LayoutModel",
      "state": {}
     },
     "c3f216ab31304d85b52a7c82bf5a223f": {
      "model_module": "@jupyter-widgets/base",
      "model_module_version": "2.0.0",
      "model_name": "LayoutModel",
      "state": {}
     },
     "c7f3cb20c0ed4b80994135c606a6b637": {
      "model_module": "ipydatagrid",
      "model_module_version": "^1.1.16",
      "model_name": "VegaExprModel",
      "state": {
       "_model_module_version": "^1.1.16",
       "_view_module": "ipydatagrid",
       "_view_module_version": "^1.1.16",
       "_view_name": "VegaExprView"
      }
     },
     "c95b943b3d6a426ea1b9e69955ca6b97": {
      "model_module": "@jupyter-widgets/controls",
      "model_module_version": "2.0.0",
      "model_name": "ButtonStyleModel",
      "state": {
       "font_family": null,
       "font_size": null,
       "font_style": null,
       "font_variant": null,
       "font_weight": null,
       "text_color": null,
       "text_decoration": null
      }
     },
     "cb1fea5b9e044cbfa5f6ccabe3a38bf4": {
      "model_module": "@jupyter-widgets/controls",
      "model_module_version": "2.0.0",
      "model_name": "ButtonModel",
      "state": {
       "description": "Redo",
       "layout": "IPY_MODEL_205c95be2b4c43bfa6462b359b8c9cff",
       "style": "IPY_MODEL_8e3716163a1a43c7a53c435d6a5d245a",
       "tooltip": null
      }
     },
     "d334ff0dec11433fb7d25cb0d363464b": {
      "model_module": "@jupyter-widgets/base",
      "model_module_version": "2.0.0",
      "model_name": "LayoutModel",
      "state": {}
     },
     "d50fd800c1914d72937bb29a137aec3b": {
      "model_module": "ipydatagrid",
      "model_module_version": "^1.1.16",
      "model_name": "VegaExprModel",
      "state": {
       "_model_module_version": "^1.1.16",
       "_view_module": "ipydatagrid",
       "_view_module_version": "^1.1.16",
       "_view_name": "VegaExprView"
      }
     },
     "da19a9fbc86d44a387837e937371da9c": {
      "model_module": "@jupyter-widgets/controls",
      "model_module_version": "2.0.0",
      "model_name": "ButtonModel",
      "state": {
       "description": "Undo",
       "layout": "IPY_MODEL_72f9283a73384bf782a9c578466aab81",
       "style": "IPY_MODEL_19096bc9e2aa4fe08949297565761238",
       "tooltip": null
      }
     },
     "db98aa3ea6304ddb971119077977559c": {
      "model_module": "@jupyter-widgets/controls",
      "model_module_version": "2.0.0",
      "model_name": "ButtonStyleModel",
      "state": {
       "font_family": null,
       "font_size": null,
       "font_style": null,
       "font_variant": null,
       "font_weight": null,
       "text_color": null,
       "text_decoration": null
      }
     },
     "dfd64d4c0b4e402f9e1d65be742b6663": {
      "model_module": "@jupyter-widgets/base",
      "model_module_version": "2.0.0",
      "model_name": "LayoutModel",
      "state": {}
     },
     "e39e332ba44542b2bc42435e2c4eb9c6": {
      "model_module": "@jupyter-widgets/output",
      "model_module_version": "1.0.0",
      "model_name": "OutputModel",
      "state": {
       "layout": "IPY_MODEL_beb91325a85a4d80b577a6bc89bab7fe"
      }
     },
     "e6ee792efacb48419cba9c3911c40f5f": {
      "model_module": "@jupyter-widgets/controls",
      "model_module_version": "2.0.0",
      "model_name": "VBoxModel",
      "state": {
       "children": [
        "IPY_MODEL_66bd3f96fa2d46e8ada86a3e3570bbc6",
        "IPY_MODEL_0da3f0afa89a48d7be7ef2b1e1e06d5d",
        "IPY_MODEL_172c4a0c7bd74513ab4651e538f4c7f7"
       ],
       "layout": "IPY_MODEL_2487747c774e46ca9575c0acf71a4a7d"
      }
     },
     "e73610e7632e4f2995dbc946d72e78ca": {
      "model_module": "@jupyter-widgets/controls",
      "model_module_version": "2.0.0",
      "model_name": "ButtonModel",
      "state": {
       "description": "Add Row",
       "layout": "IPY_MODEL_70e205136c2541448855674c36313508",
       "style": "IPY_MODEL_a7adc1c4276147d6a593b31e265d54cf",
       "tooltip": null
      }
     },
     "fa5a1faabf56479db4e446f0f2c65c2c": {
      "model_module": "@jupyter-widgets/base",
      "model_module_version": "2.0.0",
      "model_name": "LayoutModel",
      "state": {
       "height": "730px"
      }
     }
    },
    "version_major": 2,
    "version_minor": 0
   }
  }
 },
 "nbformat": 4,
 "nbformat_minor": 5
}
